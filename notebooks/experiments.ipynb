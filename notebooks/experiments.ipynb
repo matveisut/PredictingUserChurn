{
 "cells": [
  {
   "cell_type": "code",
   "execution_count": 1,
   "metadata": {},
   "outputs": [],
   "source": [
    "import pandas as pd\n",
    "from pathlib import Path\n",
    "import sys\n",
    "import seaborn as sns\n",
    "import numpy as np\n",
    "import matplotlib.pyplot as plt\n",
    "\n",
    "# Получаем абсолютный путь к src\n",
    "parent_path = Path.cwd().parent\n",
    "sys.path.append(str(parent_path))"
   ]
  },
  {
   "cell_type": "code",
   "execution_count": 2,
   "metadata": {},
   "outputs": [],
   "source": [
    "\n",
    "from sklearn.linear_model import LogisticRegression\n",
    "\n",
    "\n",
    "# Метрики для оценки классификации\n",
    "from sklearn.metrics import accuracy_score, precision_score, recall_score, f1_score, roc_auc_score, confusion_matrix\n",
    "from sklearn.metrics import classification_report\n",
    "\n",
    "# Утилиты для подготовки данных\n",
    "from sklearn.model_selection import train_test_split, cross_val_score, GridSearchCV\n",
    "from sklearn.preprocessing import StandardScaler"
   ]
  },
  {
   "cell_type": "code",
   "execution_count": 3,
   "metadata": {},
   "outputs": [],
   "source": [
    "from scripts.config import get_processed_data_path\n",
    "from scripts.config import get_seed\n",
    "\n",
    "\n",
    "SEED = int(get_seed('../configs/data_config.yaml'))"
   ]
  },
  {
   "cell_type": "code",
   "execution_count": 4,
   "metadata": {},
   "outputs": [],
   "source": [
    "df = pd.read_csv(get_processed_data_path(version= 0, path = '../configs/data_config.yaml'))\n",
    "df.drop(['Unnamed: 0'], axis = 1, inplace= True)"
   ]
  },
  {
   "cell_type": "code",
   "execution_count": 5,
   "metadata": {},
   "outputs": [
    {
     "data": {
      "text/plain": [
       "42"
      ]
     },
     "execution_count": 5,
     "metadata": {},
     "output_type": "execute_result"
    }
   ],
   "source": [
    "SEED"
   ]
  },
  {
   "cell_type": "code",
   "execution_count": 6,
   "metadata": {},
   "outputs": [],
   "source": [
    "\n",
    "\n",
    "X = df.drop(['Churn'], axis = 1)\n",
    "y = df.Churn\n",
    "\n",
    "\n",
    "test_size = 0.2\n",
    "\n",
    "\n",
    "X_train, X_test, y_train, y_test = train_test_split(X, y, test_size= test_size, random_state=SEED)\n",
    "scaler = StandardScaler()\n",
    "scale_columns = ['ClientPeriod', 'MonthlySpending', 'TotalSpent', 'Spending_Change_Ratio']\n",
    "\n",
    "X_train[scale_columns] = scaler.fit_transform(X_train[scale_columns])\n",
    "X_test[scale_columns] = scaler.transform(X_test[scale_columns])"
   ]
  },
  {
   "cell_type": "code",
   "execution_count": 7,
   "metadata": {},
   "outputs": [
    {
     "data": {
      "text/plain": [
       "((4214, 33), (1054, 33))"
      ]
     },
     "execution_count": 7,
     "metadata": {},
     "output_type": "execute_result"
    }
   ],
   "source": [
    "X_train.shape, X_test.shape"
   ]
  },
  {
   "cell_type": "markdown",
   "metadata": {},
   "source": [
    "# Бэйзлайн на логистической регрессии\n"
   ]
  },
  {
   "cell_type": "code",
   "execution_count": 8,
   "metadata": {},
   "outputs": [
    {
     "data": {
      "text/html": [
       "<div>\n",
       "<style scoped>\n",
       "    .dataframe tbody tr th:only-of-type {\n",
       "        vertical-align: middle;\n",
       "    }\n",
       "\n",
       "    .dataframe tbody tr th {\n",
       "        vertical-align: top;\n",
       "    }\n",
       "\n",
       "    .dataframe thead th {\n",
       "        text-align: right;\n",
       "    }\n",
       "</style>\n",
       "<table border=\"1\" class=\"dataframe\">\n",
       "  <thead>\n",
       "    <tr style=\"text-align: right;\">\n",
       "      <th></th>\n",
       "      <th>ClientPeriod</th>\n",
       "      <th>MonthlySpending</th>\n",
       "      <th>TotalSpent</th>\n",
       "      <th>IsSeniorCitizen</th>\n",
       "      <th>Spending_Change_Ratio</th>\n",
       "      <th>Sex_Male</th>\n",
       "      <th>HasPartner_Yes</th>\n",
       "      <th>HasChild_Yes</th>\n",
       "      <th>HasPhoneService_Yes</th>\n",
       "      <th>HasMultiplePhoneNumbers_No phone service</th>\n",
       "      <th>...</th>\n",
       "      <th>HasMovieSubscription_No internet service</th>\n",
       "      <th>HasMovieSubscription_Yes</th>\n",
       "      <th>HasContractPhone_One year</th>\n",
       "      <th>HasContractPhone_Two year</th>\n",
       "      <th>IsBillingPaperless_Yes</th>\n",
       "      <th>PaymentMethod_Credit card (automatic)</th>\n",
       "      <th>PaymentMethod_Electronic check</th>\n",
       "      <th>PaymentMethod_Mailed check</th>\n",
       "      <th>random_number</th>\n",
       "      <th>random_normal</th>\n",
       "    </tr>\n",
       "  </thead>\n",
       "  <tbody>\n",
       "    <tr>\n",
       "      <th>298</th>\n",
       "      <td>-1.123668</td>\n",
       "      <td>0.671828</td>\n",
       "      <td>-0.829853</td>\n",
       "      <td>0</td>\n",
       "      <td>0.165704</td>\n",
       "      <td>False</td>\n",
       "      <td>False</td>\n",
       "      <td>False</td>\n",
       "      <td>True</td>\n",
       "      <td>False</td>\n",
       "      <td>...</td>\n",
       "      <td>False</td>\n",
       "      <td>True</td>\n",
       "      <td>False</td>\n",
       "      <td>False</td>\n",
       "      <td>True</td>\n",
       "      <td>True</td>\n",
       "      <td>False</td>\n",
       "      <td>False</td>\n",
       "      <td>0.251281</td>\n",
       "      <td>0.460067</td>\n",
       "    </tr>\n",
       "    <tr>\n",
       "      <th>68</th>\n",
       "      <td>1.163759</td>\n",
       "      <td>0.486222</td>\n",
       "      <td>1.158731</td>\n",
       "      <td>0</td>\n",
       "      <td>-0.496389</td>\n",
       "      <td>True</td>\n",
       "      <td>True</td>\n",
       "      <td>False</td>\n",
       "      <td>True</td>\n",
       "      <td>False</td>\n",
       "      <td>...</td>\n",
       "      <td>False</td>\n",
       "      <td>True</td>\n",
       "      <td>True</td>\n",
       "      <td>False</td>\n",
       "      <td>True</td>\n",
       "      <td>False</td>\n",
       "      <td>True</td>\n",
       "      <td>False</td>\n",
       "      <td>0.371306</td>\n",
       "      <td>-2.200691</td>\n",
       "    </tr>\n",
       "    <tr>\n",
       "      <th>2372</th>\n",
       "      <td>1.000371</td>\n",
       "      <td>0.721544</td>\n",
       "      <td>1.169562</td>\n",
       "      <td>0</td>\n",
       "      <td>-0.491513</td>\n",
       "      <td>True</td>\n",
       "      <td>False</td>\n",
       "      <td>False</td>\n",
       "      <td>True</td>\n",
       "      <td>False</td>\n",
       "      <td>...</td>\n",
       "      <td>False</td>\n",
       "      <td>False</td>\n",
       "      <td>True</td>\n",
       "      <td>False</td>\n",
       "      <td>True</td>\n",
       "      <td>False</td>\n",
       "      <td>True</td>\n",
       "      <td>False</td>\n",
       "      <td>0.645234</td>\n",
       "      <td>-1.472074</td>\n",
       "    </tr>\n",
       "    <tr>\n",
       "      <th>2856</th>\n",
       "      <td>-1.001127</td>\n",
       "      <td>-1.502416</td>\n",
       "      <td>-0.947625</td>\n",
       "      <td>0</td>\n",
       "      <td>-0.110247</td>\n",
       "      <td>False</td>\n",
       "      <td>True</td>\n",
       "      <td>True</td>\n",
       "      <td>True</td>\n",
       "      <td>False</td>\n",
       "      <td>...</td>\n",
       "      <td>True</td>\n",
       "      <td>False</td>\n",
       "      <td>True</td>\n",
       "      <td>False</td>\n",
       "      <td>False</td>\n",
       "      <td>False</td>\n",
       "      <td>True</td>\n",
       "      <td>False</td>\n",
       "      <td>0.230859</td>\n",
       "      <td>0.407647</td>\n",
       "    </tr>\n",
       "    <tr>\n",
       "      <th>150</th>\n",
       "      <td>-0.674352</td>\n",
       "      <td>-1.475901</td>\n",
       "      <td>-0.872226</td>\n",
       "      <td>0</td>\n",
       "      <td>-0.330613</td>\n",
       "      <td>True</td>\n",
       "      <td>False</td>\n",
       "      <td>False</td>\n",
       "      <td>True</td>\n",
       "      <td>False</td>\n",
       "      <td>...</td>\n",
       "      <td>True</td>\n",
       "      <td>False</td>\n",
       "      <td>False</td>\n",
       "      <td>False</td>\n",
       "      <td>True</td>\n",
       "      <td>True</td>\n",
       "      <td>False</td>\n",
       "      <td>False</td>\n",
       "      <td>0.211078</td>\n",
       "      <td>-1.955710</td>\n",
       "    </tr>\n",
       "    <tr>\n",
       "      <th>...</th>\n",
       "      <td>...</td>\n",
       "      <td>...</td>\n",
       "      <td>...</td>\n",
       "      <td>...</td>\n",
       "      <td>...</td>\n",
       "      <td>...</td>\n",
       "      <td>...</td>\n",
       "      <td>...</td>\n",
       "      <td>...</td>\n",
       "      <td>...</td>\n",
       "      <td>...</td>\n",
       "      <td>...</td>\n",
       "      <td>...</td>\n",
       "      <td>...</td>\n",
       "      <td>...</td>\n",
       "      <td>...</td>\n",
       "      <td>...</td>\n",
       "      <td>...</td>\n",
       "      <td>...</td>\n",
       "      <td>...</td>\n",
       "      <td>...</td>\n",
       "    </tr>\n",
       "    <tr>\n",
       "      <th>3092</th>\n",
       "      <td>-0.470117</td>\n",
       "      <td>1.301563</td>\n",
       "      <td>-0.043815</td>\n",
       "      <td>0</td>\n",
       "      <td>-0.384247</td>\n",
       "      <td>False</td>\n",
       "      <td>True</td>\n",
       "      <td>False</td>\n",
       "      <td>True</td>\n",
       "      <td>False</td>\n",
       "      <td>...</td>\n",
       "      <td>False</td>\n",
       "      <td>True</td>\n",
       "      <td>False</td>\n",
       "      <td>False</td>\n",
       "      <td>True</td>\n",
       "      <td>False</td>\n",
       "      <td>False</td>\n",
       "      <td>False</td>\n",
       "      <td>0.548526</td>\n",
       "      <td>0.375107</td>\n",
       "    </tr>\n",
       "    <tr>\n",
       "      <th>3772</th>\n",
       "      <td>1.572228</td>\n",
       "      <td>-1.366526</td>\n",
       "      <td>-0.298031</td>\n",
       "      <td>0</td>\n",
       "      <td>-0.501928</td>\n",
       "      <td>True</td>\n",
       "      <td>True</td>\n",
       "      <td>True</td>\n",
       "      <td>True</td>\n",
       "      <td>False</td>\n",
       "      <td>...</td>\n",
       "      <td>True</td>\n",
       "      <td>False</td>\n",
       "      <td>False</td>\n",
       "      <td>True</td>\n",
       "      <td>False</td>\n",
       "      <td>True</td>\n",
       "      <td>False</td>\n",
       "      <td>False</td>\n",
       "      <td>0.223977</td>\n",
       "      <td>-1.450934</td>\n",
       "    </tr>\n",
       "    <tr>\n",
       "      <th>5191</th>\n",
       "      <td>1.082065</td>\n",
       "      <td>1.139158</td>\n",
       "      <td>1.590745</td>\n",
       "      <td>1</td>\n",
       "      <td>-0.494031</td>\n",
       "      <td>False</td>\n",
       "      <td>False</td>\n",
       "      <td>False</td>\n",
       "      <td>True</td>\n",
       "      <td>False</td>\n",
       "      <td>...</td>\n",
       "      <td>False</td>\n",
       "      <td>True</td>\n",
       "      <td>True</td>\n",
       "      <td>False</td>\n",
       "      <td>True</td>\n",
       "      <td>False</td>\n",
       "      <td>True</td>\n",
       "      <td>False</td>\n",
       "      <td>0.581688</td>\n",
       "      <td>0.817437</td>\n",
       "    </tr>\n",
       "    <tr>\n",
       "      <th>5226</th>\n",
       "      <td>1.327147</td>\n",
       "      <td>1.004925</td>\n",
       "      <td>1.738397</td>\n",
       "      <td>1</td>\n",
       "      <td>-0.499620</td>\n",
       "      <td>False</td>\n",
       "      <td>False</td>\n",
       "      <td>False</td>\n",
       "      <td>True</td>\n",
       "      <td>False</td>\n",
       "      <td>...</td>\n",
       "      <td>False</td>\n",
       "      <td>False</td>\n",
       "      <td>False</td>\n",
       "      <td>False</td>\n",
       "      <td>True</td>\n",
       "      <td>False</td>\n",
       "      <td>False</td>\n",
       "      <td>False</td>\n",
       "      <td>0.166937</td>\n",
       "      <td>0.257413</td>\n",
       "    </tr>\n",
       "    <tr>\n",
       "      <th>860</th>\n",
       "      <td>1.449687</td>\n",
       "      <td>-0.353978</td>\n",
       "      <td>0.609477</td>\n",
       "      <td>0</td>\n",
       "      <td>-0.501491</td>\n",
       "      <td>False</td>\n",
       "      <td>False</td>\n",
       "      <td>False</td>\n",
       "      <td>True</td>\n",
       "      <td>False</td>\n",
       "      <td>...</td>\n",
       "      <td>False</td>\n",
       "      <td>False</td>\n",
       "      <td>True</td>\n",
       "      <td>False</td>\n",
       "      <td>True</td>\n",
       "      <td>True</td>\n",
       "      <td>False</td>\n",
       "      <td>False</td>\n",
       "      <td>0.215516</td>\n",
       "      <td>-0.441749</td>\n",
       "    </tr>\n",
       "  </tbody>\n",
       "</table>\n",
       "<p>4214 rows × 33 columns</p>\n",
       "</div>"
      ],
      "text/plain": [
       "      ClientPeriod  MonthlySpending  TotalSpent  IsSeniorCitizen  \\\n",
       "298      -1.123668         0.671828   -0.829853                0   \n",
       "68        1.163759         0.486222    1.158731                0   \n",
       "2372      1.000371         0.721544    1.169562                0   \n",
       "2856     -1.001127        -1.502416   -0.947625                0   \n",
       "150      -0.674352        -1.475901   -0.872226                0   \n",
       "...            ...              ...         ...              ...   \n",
       "3092     -0.470117         1.301563   -0.043815                0   \n",
       "3772      1.572228        -1.366526   -0.298031                0   \n",
       "5191      1.082065         1.139158    1.590745                1   \n",
       "5226      1.327147         1.004925    1.738397                1   \n",
       "860       1.449687        -0.353978    0.609477                0   \n",
       "\n",
       "      Spending_Change_Ratio  Sex_Male  HasPartner_Yes  HasChild_Yes  \\\n",
       "298                0.165704     False           False         False   \n",
       "68                -0.496389      True            True         False   \n",
       "2372              -0.491513      True           False         False   \n",
       "2856              -0.110247     False            True          True   \n",
       "150               -0.330613      True           False         False   \n",
       "...                     ...       ...             ...           ...   \n",
       "3092              -0.384247     False            True         False   \n",
       "3772              -0.501928      True            True          True   \n",
       "5191              -0.494031     False           False         False   \n",
       "5226              -0.499620     False           False         False   \n",
       "860               -0.501491     False           False         False   \n",
       "\n",
       "      HasPhoneService_Yes  HasMultiplePhoneNumbers_No phone service  ...  \\\n",
       "298                  True                                     False  ...   \n",
       "68                   True                                     False  ...   \n",
       "2372                 True                                     False  ...   \n",
       "2856                 True                                     False  ...   \n",
       "150                  True                                     False  ...   \n",
       "...                   ...                                       ...  ...   \n",
       "3092                 True                                     False  ...   \n",
       "3772                 True                                     False  ...   \n",
       "5191                 True                                     False  ...   \n",
       "5226                 True                                     False  ...   \n",
       "860                  True                                     False  ...   \n",
       "\n",
       "      HasMovieSubscription_No internet service  HasMovieSubscription_Yes  \\\n",
       "298                                      False                      True   \n",
       "68                                       False                      True   \n",
       "2372                                     False                     False   \n",
       "2856                                      True                     False   \n",
       "150                                       True                     False   \n",
       "...                                        ...                       ...   \n",
       "3092                                     False                      True   \n",
       "3772                                      True                     False   \n",
       "5191                                     False                      True   \n",
       "5226                                     False                     False   \n",
       "860                                      False                     False   \n",
       "\n",
       "      HasContractPhone_One year  HasContractPhone_Two year  \\\n",
       "298                       False                      False   \n",
       "68                         True                      False   \n",
       "2372                       True                      False   \n",
       "2856                       True                      False   \n",
       "150                       False                      False   \n",
       "...                         ...                        ...   \n",
       "3092                      False                      False   \n",
       "3772                      False                       True   \n",
       "5191                       True                      False   \n",
       "5226                      False                      False   \n",
       "860                        True                      False   \n",
       "\n",
       "      IsBillingPaperless_Yes  PaymentMethod_Credit card (automatic)  \\\n",
       "298                     True                                   True   \n",
       "68                      True                                  False   \n",
       "2372                    True                                  False   \n",
       "2856                   False                                  False   \n",
       "150                     True                                   True   \n",
       "...                      ...                                    ...   \n",
       "3092                    True                                  False   \n",
       "3772                   False                                   True   \n",
       "5191                    True                                  False   \n",
       "5226                    True                                  False   \n",
       "860                     True                                   True   \n",
       "\n",
       "      PaymentMethod_Electronic check  PaymentMethod_Mailed check  \\\n",
       "298                            False                       False   \n",
       "68                              True                       False   \n",
       "2372                            True                       False   \n",
       "2856                            True                       False   \n",
       "150                            False                       False   \n",
       "...                              ...                         ...   \n",
       "3092                           False                       False   \n",
       "3772                           False                       False   \n",
       "5191                            True                       False   \n",
       "5226                           False                       False   \n",
       "860                            False                       False   \n",
       "\n",
       "      random_number  random_normal  \n",
       "298        0.251281       0.460067  \n",
       "68         0.371306      -2.200691  \n",
       "2372       0.645234      -1.472074  \n",
       "2856       0.230859       0.407647  \n",
       "150        0.211078      -1.955710  \n",
       "...             ...            ...  \n",
       "3092       0.548526       0.375107  \n",
       "3772       0.223977      -1.450934  \n",
       "5191       0.581688       0.817437  \n",
       "5226       0.166937       0.257413  \n",
       "860        0.215516      -0.441749  \n",
       "\n",
       "[4214 rows x 33 columns]"
      ]
     },
     "execution_count": 8,
     "metadata": {},
     "output_type": "execute_result"
    }
   ],
   "source": [
    "X_train"
   ]
  },
  {
   "cell_type": "markdown",
   "metadata": {},
   "source": [
    "# Вход в wandb"
   ]
  },
  {
   "cell_type": "code",
   "execution_count": 9,
   "metadata": {},
   "outputs": [
    {
     "name": "stderr",
     "output_type": "stream",
     "text": [
      "\u001b[34m\u001b[1mwandb\u001b[0m: \u001b[33mWARNING\u001b[0m If you're specifying your api key in code, ensure this code is not shared publicly.\n",
      "\u001b[34m\u001b[1mwandb\u001b[0m: \u001b[33mWARNING\u001b[0m Consider setting the WANDB_API_KEY environment variable, or running `wandb login` from the command line.\n",
      "\u001b[34m\u001b[1mwandb\u001b[0m: Appending key for api.wandb.ai to your netrc file: C:\\Users\\user\\_netrc\n",
      "\u001b[34m\u001b[1mwandb\u001b[0m: Currently logged in as: \u001b[33msutormin-p\u001b[0m (\u001b[33msutormin\u001b[0m) to \u001b[32mhttps://api.wandb.ai\u001b[0m. Use \u001b[1m`wandb login --relogin`\u001b[0m to force relogin\n"
     ]
    },
    {
     "name": "stdout",
     "output_type": "stream",
     "text": [
      "Successfully logged in to W&B\n"
     ]
    }
   ],
   "source": [
    "import os\n",
    "from dotenv import load_dotenv\n",
    "import wandb\n",
    "\n",
    "load_dotenv()  \n",
    "\n",
    "api_key = os.getenv('WANDB_API_KEY')\n",
    "if api_key:\n",
    "    wandb.login(key=api_key)\n",
    "    print(\"Successfully logged in to W&B\")\n",
    "else:\n",
    "    print(\"Please set WANDB_API_KEY in .env file\")"
   ]
  },
  {
   "cell_type": "code",
   "execution_count": 10,
   "metadata": {},
   "outputs": [
    {
     "name": "stdout",
     "output_type": "stream",
     "text": [
      "              precision    recall  f1-score   support\n",
      "\n",
      "           0       0.84      0.91      0.87       773\n",
      "           1       0.68      0.51      0.58       281\n",
      "\n",
      "    accuracy                           0.80      1054\n",
      "   macro avg       0.76      0.71      0.73      1054\n",
      "weighted avg       0.79      0.80      0.79      1054\n",
      "\n",
      "roc_auc =  0.8495532035375415\n"
     ]
    },
    {
     "data": {
      "text/html": [],
      "text/plain": [
       "<IPython.core.display.HTML object>"
      ]
     },
     "metadata": {},
     "output_type": "display_data"
    },
    {
     "data": {
      "text/html": [
       "Tracking run with wandb version 0.22.0"
      ],
      "text/plain": [
       "<IPython.core.display.HTML object>"
      ]
     },
     "metadata": {},
     "output_type": "display_data"
    },
    {
     "data": {
      "text/html": [
       "Run data is saved locally in <code>c:\\Users\\user\\Desktop\\Projects\\Mentors\\PredictingUserChurn\\notebooks\\wandb\\run-20250923_101121-i79k7q3z</code>"
      ],
      "text/plain": [
       "<IPython.core.display.HTML object>"
      ]
     },
     "metadata": {},
     "output_type": "display_data"
    },
    {
     "data": {
      "text/html": [
       "Syncing run <strong><a href='https://wandb.ai/sutormin/churn_predict/runs/i79k7q3z' target=\"_blank\">LogisticRegression</a></strong> to <a href='https://wandb.ai/sutormin/churn_predict' target=\"_blank\">Weights & Biases</a> (<a href='https://wandb.me/developer-guide' target=\"_blank\">docs</a>)<br>"
      ],
      "text/plain": [
       "<IPython.core.display.HTML object>"
      ]
     },
     "metadata": {},
     "output_type": "display_data"
    },
    {
     "data": {
      "text/html": [
       " View project at <a href='https://wandb.ai/sutormin/churn_predict' target=\"_blank\">https://wandb.ai/sutormin/churn_predict</a>"
      ],
      "text/plain": [
       "<IPython.core.display.HTML object>"
      ]
     },
     "metadata": {},
     "output_type": "display_data"
    },
    {
     "data": {
      "text/html": [
       " View run at <a href='https://wandb.ai/sutormin/churn_predict/runs/i79k7q3z' target=\"_blank\">https://wandb.ai/sutormin/churn_predict/runs/i79k7q3z</a>"
      ],
      "text/plain": [
       "<IPython.core.display.HTML object>"
      ]
     },
     "metadata": {},
     "output_type": "display_data"
    },
    {
     "name": "stderr",
     "output_type": "stream",
     "text": [
      "c:\\Users\\user\\Desktop\\Projects\\Mentors\\PredictingUserChurn\\churn_predict_venv\\Lib\\site-packages\\sklearn\\utils\\validation.py:2749: UserWarning: X does not have valid feature names, but LogisticRegression was fitted with feature names\n",
      "  warnings.warn(\n"
     ]
    }
   ],
   "source": [
    "logreg = LogisticRegression()\n",
    "logreg.fit(X_train, y_train)\n",
    "y_pred = logreg.predict(X_test)\n",
    " \n",
    "print(classification_report(y_pred = y_pred, y_true = y_test))\n",
    "print('roc_auc = ', roc_auc_score(y_test, logreg.predict_proba(X_test)[:,1]))\n",
    "\n",
    "\n",
    "from scripts.train import log_wandb_sklearn\n",
    "\n",
    "log_wandb_sklearn(logreg, X_train, y_train, X_test, y_test)"
   ]
  },
  {
   "cell_type": "markdown",
   "metadata": {},
   "source": [
    "# Были добавлены фичи со случайными числами и ещё одна фича комбинация двух других. Была обучена логистическая регрессия. Данные немного не сбалансированы и поэтому на разных классах разные метрики"
   ]
  },
  {
   "cell_type": "code",
   "execution_count": 11,
   "metadata": {},
   "outputs": [],
   "source": [
    "from sklearn.tree import DecisionTreeClassifier\n",
    "from sklearn.ensemble import RandomForestClassifier, GradientBoostingClassifier\n",
    "from sklearn.neighbors import KNeighborsClassifier\n",
    "\n",
    "from lightgbm import LGBMClassifier\n",
    "from xgboost import XGBClassifier\n",
    "from catboost import CatBoostClassifier"
   ]
  },
  {
   "cell_type": "code",
   "execution_count": 12,
   "metadata": {},
   "outputs": [
    {
     "data": {
      "text/html": [
       "<div>\n",
       "<style scoped>\n",
       "    .dataframe tbody tr th:only-of-type {\n",
       "        vertical-align: middle;\n",
       "    }\n",
       "\n",
       "    .dataframe tbody tr th {\n",
       "        vertical-align: top;\n",
       "    }\n",
       "\n",
       "    .dataframe thead th {\n",
       "        text-align: right;\n",
       "    }\n",
       "</style>\n",
       "<table border=\"1\" class=\"dataframe\">\n",
       "  <thead>\n",
       "    <tr style=\"text-align: right;\">\n",
       "      <th></th>\n",
       "      <th>ClientPeriod</th>\n",
       "      <th>MonthlySpending</th>\n",
       "      <th>TotalSpent</th>\n",
       "      <th>IsSeniorCitizen</th>\n",
       "      <th>Spending_Change_Ratio</th>\n",
       "      <th>Sex_Male</th>\n",
       "      <th>HasPartner_Yes</th>\n",
       "      <th>HasChild_Yes</th>\n",
       "      <th>HasPhoneService_Yes</th>\n",
       "      <th>HasMultiplePhoneNumbers_No phone service</th>\n",
       "      <th>...</th>\n",
       "      <th>HasMovieSubscription_No internet service</th>\n",
       "      <th>HasMovieSubscription_Yes</th>\n",
       "      <th>HasContractPhone_One year</th>\n",
       "      <th>HasContractPhone_Two year</th>\n",
       "      <th>IsBillingPaperless_Yes</th>\n",
       "      <th>PaymentMethod_Credit card (automatic)</th>\n",
       "      <th>PaymentMethod_Electronic check</th>\n",
       "      <th>PaymentMethod_Mailed check</th>\n",
       "      <th>random_number</th>\n",
       "      <th>random_normal</th>\n",
       "    </tr>\n",
       "  </thead>\n",
       "  <tbody>\n",
       "    <tr>\n",
       "      <th>298</th>\n",
       "      <td>-1.123668</td>\n",
       "      <td>0.671828</td>\n",
       "      <td>-0.829853</td>\n",
       "      <td>0</td>\n",
       "      <td>0.165704</td>\n",
       "      <td>False</td>\n",
       "      <td>False</td>\n",
       "      <td>False</td>\n",
       "      <td>True</td>\n",
       "      <td>False</td>\n",
       "      <td>...</td>\n",
       "      <td>False</td>\n",
       "      <td>True</td>\n",
       "      <td>False</td>\n",
       "      <td>False</td>\n",
       "      <td>True</td>\n",
       "      <td>True</td>\n",
       "      <td>False</td>\n",
       "      <td>False</td>\n",
       "      <td>0.251281</td>\n",
       "      <td>0.460067</td>\n",
       "    </tr>\n",
       "    <tr>\n",
       "      <th>68</th>\n",
       "      <td>1.163759</td>\n",
       "      <td>0.486222</td>\n",
       "      <td>1.158731</td>\n",
       "      <td>0</td>\n",
       "      <td>-0.496389</td>\n",
       "      <td>True</td>\n",
       "      <td>True</td>\n",
       "      <td>False</td>\n",
       "      <td>True</td>\n",
       "      <td>False</td>\n",
       "      <td>...</td>\n",
       "      <td>False</td>\n",
       "      <td>True</td>\n",
       "      <td>True</td>\n",
       "      <td>False</td>\n",
       "      <td>True</td>\n",
       "      <td>False</td>\n",
       "      <td>True</td>\n",
       "      <td>False</td>\n",
       "      <td>0.371306</td>\n",
       "      <td>-2.200691</td>\n",
       "    </tr>\n",
       "    <tr>\n",
       "      <th>2372</th>\n",
       "      <td>1.000371</td>\n",
       "      <td>0.721544</td>\n",
       "      <td>1.169562</td>\n",
       "      <td>0</td>\n",
       "      <td>-0.491513</td>\n",
       "      <td>True</td>\n",
       "      <td>False</td>\n",
       "      <td>False</td>\n",
       "      <td>True</td>\n",
       "      <td>False</td>\n",
       "      <td>...</td>\n",
       "      <td>False</td>\n",
       "      <td>False</td>\n",
       "      <td>True</td>\n",
       "      <td>False</td>\n",
       "      <td>True</td>\n",
       "      <td>False</td>\n",
       "      <td>True</td>\n",
       "      <td>False</td>\n",
       "      <td>0.645234</td>\n",
       "      <td>-1.472074</td>\n",
       "    </tr>\n",
       "    <tr>\n",
       "      <th>2856</th>\n",
       "      <td>-1.001127</td>\n",
       "      <td>-1.502416</td>\n",
       "      <td>-0.947625</td>\n",
       "      <td>0</td>\n",
       "      <td>-0.110247</td>\n",
       "      <td>False</td>\n",
       "      <td>True</td>\n",
       "      <td>True</td>\n",
       "      <td>True</td>\n",
       "      <td>False</td>\n",
       "      <td>...</td>\n",
       "      <td>True</td>\n",
       "      <td>False</td>\n",
       "      <td>True</td>\n",
       "      <td>False</td>\n",
       "      <td>False</td>\n",
       "      <td>False</td>\n",
       "      <td>True</td>\n",
       "      <td>False</td>\n",
       "      <td>0.230859</td>\n",
       "      <td>0.407647</td>\n",
       "    </tr>\n",
       "    <tr>\n",
       "      <th>150</th>\n",
       "      <td>-0.674352</td>\n",
       "      <td>-1.475901</td>\n",
       "      <td>-0.872226</td>\n",
       "      <td>0</td>\n",
       "      <td>-0.330613</td>\n",
       "      <td>True</td>\n",
       "      <td>False</td>\n",
       "      <td>False</td>\n",
       "      <td>True</td>\n",
       "      <td>False</td>\n",
       "      <td>...</td>\n",
       "      <td>True</td>\n",
       "      <td>False</td>\n",
       "      <td>False</td>\n",
       "      <td>False</td>\n",
       "      <td>True</td>\n",
       "      <td>True</td>\n",
       "      <td>False</td>\n",
       "      <td>False</td>\n",
       "      <td>0.211078</td>\n",
       "      <td>-1.955710</td>\n",
       "    </tr>\n",
       "    <tr>\n",
       "      <th>...</th>\n",
       "      <td>...</td>\n",
       "      <td>...</td>\n",
       "      <td>...</td>\n",
       "      <td>...</td>\n",
       "      <td>...</td>\n",
       "      <td>...</td>\n",
       "      <td>...</td>\n",
       "      <td>...</td>\n",
       "      <td>...</td>\n",
       "      <td>...</td>\n",
       "      <td>...</td>\n",
       "      <td>...</td>\n",
       "      <td>...</td>\n",
       "      <td>...</td>\n",
       "      <td>...</td>\n",
       "      <td>...</td>\n",
       "      <td>...</td>\n",
       "      <td>...</td>\n",
       "      <td>...</td>\n",
       "      <td>...</td>\n",
       "      <td>...</td>\n",
       "    </tr>\n",
       "    <tr>\n",
       "      <th>3092</th>\n",
       "      <td>-0.470117</td>\n",
       "      <td>1.301563</td>\n",
       "      <td>-0.043815</td>\n",
       "      <td>0</td>\n",
       "      <td>-0.384247</td>\n",
       "      <td>False</td>\n",
       "      <td>True</td>\n",
       "      <td>False</td>\n",
       "      <td>True</td>\n",
       "      <td>False</td>\n",
       "      <td>...</td>\n",
       "      <td>False</td>\n",
       "      <td>True</td>\n",
       "      <td>False</td>\n",
       "      <td>False</td>\n",
       "      <td>True</td>\n",
       "      <td>False</td>\n",
       "      <td>False</td>\n",
       "      <td>False</td>\n",
       "      <td>0.548526</td>\n",
       "      <td>0.375107</td>\n",
       "    </tr>\n",
       "    <tr>\n",
       "      <th>3772</th>\n",
       "      <td>1.572228</td>\n",
       "      <td>-1.366526</td>\n",
       "      <td>-0.298031</td>\n",
       "      <td>0</td>\n",
       "      <td>-0.501928</td>\n",
       "      <td>True</td>\n",
       "      <td>True</td>\n",
       "      <td>True</td>\n",
       "      <td>True</td>\n",
       "      <td>False</td>\n",
       "      <td>...</td>\n",
       "      <td>True</td>\n",
       "      <td>False</td>\n",
       "      <td>False</td>\n",
       "      <td>True</td>\n",
       "      <td>False</td>\n",
       "      <td>True</td>\n",
       "      <td>False</td>\n",
       "      <td>False</td>\n",
       "      <td>0.223977</td>\n",
       "      <td>-1.450934</td>\n",
       "    </tr>\n",
       "    <tr>\n",
       "      <th>5191</th>\n",
       "      <td>1.082065</td>\n",
       "      <td>1.139158</td>\n",
       "      <td>1.590745</td>\n",
       "      <td>1</td>\n",
       "      <td>-0.494031</td>\n",
       "      <td>False</td>\n",
       "      <td>False</td>\n",
       "      <td>False</td>\n",
       "      <td>True</td>\n",
       "      <td>False</td>\n",
       "      <td>...</td>\n",
       "      <td>False</td>\n",
       "      <td>True</td>\n",
       "      <td>True</td>\n",
       "      <td>False</td>\n",
       "      <td>True</td>\n",
       "      <td>False</td>\n",
       "      <td>True</td>\n",
       "      <td>False</td>\n",
       "      <td>0.581688</td>\n",
       "      <td>0.817437</td>\n",
       "    </tr>\n",
       "    <tr>\n",
       "      <th>5226</th>\n",
       "      <td>1.327147</td>\n",
       "      <td>1.004925</td>\n",
       "      <td>1.738397</td>\n",
       "      <td>1</td>\n",
       "      <td>-0.499620</td>\n",
       "      <td>False</td>\n",
       "      <td>False</td>\n",
       "      <td>False</td>\n",
       "      <td>True</td>\n",
       "      <td>False</td>\n",
       "      <td>...</td>\n",
       "      <td>False</td>\n",
       "      <td>False</td>\n",
       "      <td>False</td>\n",
       "      <td>False</td>\n",
       "      <td>True</td>\n",
       "      <td>False</td>\n",
       "      <td>False</td>\n",
       "      <td>False</td>\n",
       "      <td>0.166937</td>\n",
       "      <td>0.257413</td>\n",
       "    </tr>\n",
       "    <tr>\n",
       "      <th>860</th>\n",
       "      <td>1.449687</td>\n",
       "      <td>-0.353978</td>\n",
       "      <td>0.609477</td>\n",
       "      <td>0</td>\n",
       "      <td>-0.501491</td>\n",
       "      <td>False</td>\n",
       "      <td>False</td>\n",
       "      <td>False</td>\n",
       "      <td>True</td>\n",
       "      <td>False</td>\n",
       "      <td>...</td>\n",
       "      <td>False</td>\n",
       "      <td>False</td>\n",
       "      <td>True</td>\n",
       "      <td>False</td>\n",
       "      <td>True</td>\n",
       "      <td>True</td>\n",
       "      <td>False</td>\n",
       "      <td>False</td>\n",
       "      <td>0.215516</td>\n",
       "      <td>-0.441749</td>\n",
       "    </tr>\n",
       "  </tbody>\n",
       "</table>\n",
       "<p>4214 rows × 33 columns</p>\n",
       "</div>"
      ],
      "text/plain": [
       "      ClientPeriod  MonthlySpending  TotalSpent  IsSeniorCitizen  \\\n",
       "298      -1.123668         0.671828   -0.829853                0   \n",
       "68        1.163759         0.486222    1.158731                0   \n",
       "2372      1.000371         0.721544    1.169562                0   \n",
       "2856     -1.001127        -1.502416   -0.947625                0   \n",
       "150      -0.674352        -1.475901   -0.872226                0   \n",
       "...            ...              ...         ...              ...   \n",
       "3092     -0.470117         1.301563   -0.043815                0   \n",
       "3772      1.572228        -1.366526   -0.298031                0   \n",
       "5191      1.082065         1.139158    1.590745                1   \n",
       "5226      1.327147         1.004925    1.738397                1   \n",
       "860       1.449687        -0.353978    0.609477                0   \n",
       "\n",
       "      Spending_Change_Ratio  Sex_Male  HasPartner_Yes  HasChild_Yes  \\\n",
       "298                0.165704     False           False         False   \n",
       "68                -0.496389      True            True         False   \n",
       "2372              -0.491513      True           False         False   \n",
       "2856              -0.110247     False            True          True   \n",
       "150               -0.330613      True           False         False   \n",
       "...                     ...       ...             ...           ...   \n",
       "3092              -0.384247     False            True         False   \n",
       "3772              -0.501928      True            True          True   \n",
       "5191              -0.494031     False           False         False   \n",
       "5226              -0.499620     False           False         False   \n",
       "860               -0.501491     False           False         False   \n",
       "\n",
       "      HasPhoneService_Yes  HasMultiplePhoneNumbers_No phone service  ...  \\\n",
       "298                  True                                     False  ...   \n",
       "68                   True                                     False  ...   \n",
       "2372                 True                                     False  ...   \n",
       "2856                 True                                     False  ...   \n",
       "150                  True                                     False  ...   \n",
       "...                   ...                                       ...  ...   \n",
       "3092                 True                                     False  ...   \n",
       "3772                 True                                     False  ...   \n",
       "5191                 True                                     False  ...   \n",
       "5226                 True                                     False  ...   \n",
       "860                  True                                     False  ...   \n",
       "\n",
       "      HasMovieSubscription_No internet service  HasMovieSubscription_Yes  \\\n",
       "298                                      False                      True   \n",
       "68                                       False                      True   \n",
       "2372                                     False                     False   \n",
       "2856                                      True                     False   \n",
       "150                                       True                     False   \n",
       "...                                        ...                       ...   \n",
       "3092                                     False                      True   \n",
       "3772                                      True                     False   \n",
       "5191                                     False                      True   \n",
       "5226                                     False                     False   \n",
       "860                                      False                     False   \n",
       "\n",
       "      HasContractPhone_One year  HasContractPhone_Two year  \\\n",
       "298                       False                      False   \n",
       "68                         True                      False   \n",
       "2372                       True                      False   \n",
       "2856                       True                      False   \n",
       "150                       False                      False   \n",
       "...                         ...                        ...   \n",
       "3092                      False                      False   \n",
       "3772                      False                       True   \n",
       "5191                       True                      False   \n",
       "5226                      False                      False   \n",
       "860                        True                      False   \n",
       "\n",
       "      IsBillingPaperless_Yes  PaymentMethod_Credit card (automatic)  \\\n",
       "298                     True                                   True   \n",
       "68                      True                                  False   \n",
       "2372                    True                                  False   \n",
       "2856                   False                                  False   \n",
       "150                     True                                   True   \n",
       "...                      ...                                    ...   \n",
       "3092                    True                                  False   \n",
       "3772                   False                                   True   \n",
       "5191                    True                                  False   \n",
       "5226                    True                                  False   \n",
       "860                     True                                   True   \n",
       "\n",
       "      PaymentMethod_Electronic check  PaymentMethod_Mailed check  \\\n",
       "298                            False                       False   \n",
       "68                              True                       False   \n",
       "2372                            True                       False   \n",
       "2856                            True                       False   \n",
       "150                            False                       False   \n",
       "...                              ...                         ...   \n",
       "3092                           False                       False   \n",
       "3772                           False                       False   \n",
       "5191                            True                       False   \n",
       "5226                           False                       False   \n",
       "860                            False                       False   \n",
       "\n",
       "      random_number  random_normal  \n",
       "298        0.251281       0.460067  \n",
       "68         0.371306      -2.200691  \n",
       "2372       0.645234      -1.472074  \n",
       "2856       0.230859       0.407647  \n",
       "150        0.211078      -1.955710  \n",
       "...             ...            ...  \n",
       "3092       0.548526       0.375107  \n",
       "3772       0.223977      -1.450934  \n",
       "5191       0.581688       0.817437  \n",
       "5226       0.166937       0.257413  \n",
       "860        0.215516      -0.441749  \n",
       "\n",
       "[4214 rows x 33 columns]"
      ]
     },
     "execution_count": 12,
     "metadata": {},
     "output_type": "execute_result"
    }
   ],
   "source": [
    "X_train"
   ]
  },
  {
   "cell_type": "code",
   "execution_count": 13,
   "metadata": {},
   "outputs": [],
   "source": [
    "from scripts.train import train_and_log"
   ]
  },
  {
   "cell_type": "code",
   "execution_count": 14,
   "metadata": {},
   "outputs": [
    {
     "name": "stdout",
     "output_type": "stream",
     "text": [
      "================================================== model:  logreg ==================================================\n",
      "              precision    recall  f1-score   support\n",
      "\n",
      "           0       0.84      0.91      0.87       773\n",
      "           1       0.68      0.51      0.58       281\n",
      "\n",
      "    accuracy                           0.80      1054\n",
      "   macro avg       0.76      0.71      0.73      1054\n",
      "weighted avg       0.79      0.80      0.79      1054\n",
      "\n",
      "roc_auc = 0.8495532035375415\n"
     ]
    },
    {
     "name": "stderr",
     "output_type": "stream",
     "text": [
      "<>:15: SyntaxWarning: invalid escape sequence '\\c'\n",
      "<>:15: SyntaxWarning: invalid escape sequence '\\c'\n",
      "C:\\Users\\user\\AppData\\Local\\Temp\\ipykernel_10512\\3258089142.py:15: SyntaxWarning: invalid escape sequence '\\c'\n",
      "  experiments_dir = '..\\configs\\experiments'\n"
     ]
    },
    {
     "data": {
      "text/html": [
       "Finishing previous runs because reinit is set to 'default'."
      ],
      "text/plain": [
       "<IPython.core.display.HTML object>"
      ]
     },
     "metadata": {},
     "output_type": "display_data"
    },
    {
     "name": "stderr",
     "output_type": "stream",
     "text": [
      "\u001b[34m\u001b[1mwandb\u001b[0m: \u001b[32m\u001b[41mERROR\u001b[0m The nbformat package was not found. It is required to save notebook history.\n"
     ]
    },
    {
     "data": {
      "text/html": [],
      "text/plain": [
       "<IPython.core.display.HTML object>"
      ]
     },
     "metadata": {},
     "output_type": "display_data"
    },
    {
     "data": {
      "text/html": [
       " View run <strong style=\"color:#cdcd00\">LogisticRegression</strong> at: <a href='https://wandb.ai/sutormin/churn_predict/runs/i79k7q3z' target=\"_blank\">https://wandb.ai/sutormin/churn_predict/runs/i79k7q3z</a><br> View project at: <a href='https://wandb.ai/sutormin/churn_predict' target=\"_blank\">https://wandb.ai/sutormin/churn_predict</a><br>Synced 5 W&B file(s), 5 media file(s), 10 artifact file(s) and 0 other file(s)"
      ],
      "text/plain": [
       "<IPython.core.display.HTML object>"
      ]
     },
     "metadata": {},
     "output_type": "display_data"
    },
    {
     "data": {
      "text/html": [
       "Find logs at: <code>.\\wandb\\run-20250923_101121-i79k7q3z\\logs</code>"
      ],
      "text/plain": [
       "<IPython.core.display.HTML object>"
      ]
     },
     "metadata": {},
     "output_type": "display_data"
    },
    {
     "data": {
      "text/html": [],
      "text/plain": [
       "<IPython.core.display.HTML object>"
      ]
     },
     "metadata": {},
     "output_type": "display_data"
    },
    {
     "data": {
      "text/html": [
       "Tracking run with wandb version 0.22.0"
      ],
      "text/plain": [
       "<IPython.core.display.HTML object>"
      ]
     },
     "metadata": {},
     "output_type": "display_data"
    },
    {
     "data": {
      "text/html": [
       "Run data is saved locally in <code>c:\\Users\\user\\Desktop\\Projects\\Mentors\\PredictingUserChurn\\notebooks\\wandb\\run-20250923_101136-vcmtphnk</code>"
      ],
      "text/plain": [
       "<IPython.core.display.HTML object>"
      ]
     },
     "metadata": {},
     "output_type": "display_data"
    },
    {
     "data": {
      "text/html": [
       "Syncing run <strong><a href='https://wandb.ai/sutormin/churn_predict/runs/vcmtphnk' target=\"_blank\">LogisticRegression</a></strong> to <a href='https://wandb.ai/sutormin/churn_predict' target=\"_blank\">Weights & Biases</a> (<a href='https://wandb.me/developer-guide' target=\"_blank\">docs</a>)<br>"
      ],
      "text/plain": [
       "<IPython.core.display.HTML object>"
      ]
     },
     "metadata": {},
     "output_type": "display_data"
    },
    {
     "data": {
      "text/html": [
       " View project at <a href='https://wandb.ai/sutormin/churn_predict' target=\"_blank\">https://wandb.ai/sutormin/churn_predict</a>"
      ],
      "text/plain": [
       "<IPython.core.display.HTML object>"
      ]
     },
     "metadata": {},
     "output_type": "display_data"
    },
    {
     "data": {
      "text/html": [
       " View run at <a href='https://wandb.ai/sutormin/churn_predict/runs/vcmtphnk' target=\"_blank\">https://wandb.ai/sutormin/churn_predict/runs/vcmtphnk</a>"
      ],
      "text/plain": [
       "<IPython.core.display.HTML object>"
      ]
     },
     "metadata": {},
     "output_type": "display_data"
    },
    {
     "name": "stderr",
     "output_type": "stream",
     "text": [
      "c:\\Users\\user\\Desktop\\Projects\\Mentors\\PredictingUserChurn\\churn_predict_venv\\Lib\\site-packages\\sklearn\\utils\\validation.py:2749: UserWarning: X does not have valid feature names, but LogisticRegression was fitted with feature names\n",
      "  warnings.warn(\n"
     ]
    },
    {
     "name": "stdout",
     "output_type": "stream",
     "text": [
      "✅ Эксперимент сохранен: ..\\configs\\experiments\\exp5.yaml\n"
     ]
    }
   ],
   "source": [
    "logreg = LogisticRegression()\n",
    "tree = DecisionTreeClassifier(max_depth = 5)\n",
    "rf = RandomForestClassifier()\n",
    "grad_boosting = GradientBoostingClassifier()\n",
    "knn = KNeighborsClassifier()\n",
    "lgbm = LGBMClassifier()\n",
    "xgb = XGBClassifier()\n",
    "catboost = CatBoostClassifier()\n",
    "\n",
    "\n",
    "models = [logreg, tree, rf, grad_boosting, knn, lgbm, xgb, catboost ]\n",
    "names = ['logreg', 'tree', 'rf', 'grad_boosting', 'knn', 'lgbm', 'xgb', 'catboost']\n",
    "reports = {}\n",
    "roc_aucs = {}\n",
    "experiments_dir = '..\\configs\\experiments'\n",
    "\n",
    "for idx,( name, model )in enumerate(zip(names, models)):\n",
    "    \n",
    "    train_and_log(name, model, X_train, y_train, X_test, y_test, experiments_dir, reports, roc_aucs, )\n",
    "    break\n"
   ]
  },
  {
   "cell_type": "code",
   "execution_count": 15,
   "metadata": {},
   "outputs": [
    {
     "name": "stdout",
     "output_type": "stream",
     "text": [
      "============================== model:  logreg ============================== \n",
      "\n",
      "              precision    recall  f1-score      support\n",
      "0              0.835308  0.912031  0.871985   773.000000\n",
      "1              0.676190  0.505338  0.578411   281.000000\n",
      "accuracy       0.803605  0.803605  0.803605     0.803605\n",
      "macro avg      0.755749  0.708685  0.725198  1054.000000\n",
      "weighted avg   0.792887  0.803605  0.793717  1054.000000\n",
      "roc auc score = 0.8495532035375415 \n",
      "\n"
     ]
    }
   ],
   "source": [
    "for name in reports:\n",
    "    print(\"=\" * 30, \"model: \", name ,\"=\" * 30, '\\n')\n",
    "    print(pd.DataFrame(reports[name]).T)\n",
    "    print('roc auc score =', roc_aucs[name], '\\n')"
   ]
  },
  {
   "cell_type": "markdown",
   "metadata": {},
   "source": [
    "# Судя по метрикам лучше всех себя показало, что удивительно самая наша первая итерация, а именно логистическая регрессия. Значит с ней и продолжим, но посмотрим на важность фичей у например кэтбуста"
   ]
  },
  {
   "cell_type": "code",
   "execution_count": 16,
   "metadata": {},
   "outputs": [
    {
     "name": "stdout",
     "output_type": "stream",
     "text": [
      "                                         feature  coefficient  abs_coefficient\n",
      "26                     HasContractPhone_Two year    -1.435201         1.435201\n",
      "11                HasInternetService_Fiber optic     1.131659         1.131659\n",
      "25                     HasContractPhone_One year    -0.693372         0.693372\n",
      "0                                   ClientPeriod    -0.603664         0.603664\n",
      "10                   HasMultiplePhoneNumbers_Yes     0.534457         0.534457\n",
      "8                            HasPhoneService_Yes    -0.478890         0.478890\n",
      "24                      HasMovieSubscription_Yes     0.395089         0.395089\n",
      "4                          Spending_Change_Ratio     0.390278         0.390278\n",
      "1                                MonthlySpending    -0.379879         0.379879\n",
      "22                               HasOnlineTV_Yes     0.378988         0.378988\n",
      "27                        IsBillingPaperless_Yes     0.364149         0.364149\n",
      "3                                IsSeniorCitizen     0.347384         0.347384\n",
      "14                  HasOnlineSecurityService_Yes    -0.333975         0.333975\n",
      "20                      HasTechSupportAccess_Yes    -0.321450         0.321450\n",
      "29                PaymentMethod_Electronic check     0.247361         0.247361\n",
      "9       HasMultiplePhoneNumbers_No phone service    -0.234479         0.234479\n",
      "12                         HasInternetService_No    -0.177427         0.177427\n",
      "19      HasTechSupportAccess_No internet service    -0.177427         0.177427\n",
      "23      HasMovieSubscription_No internet service    -0.177427         0.177427\n",
      "21               HasOnlineTV_No internet service    -0.177427         0.177427\n",
      "17       HasDeviceProtection_No internet service    -0.177427         0.177427\n",
      "13  HasOnlineSecurityService_No internet service    -0.177427         0.177427\n",
      "15           HasOnlineBackup_No internet service    -0.177427         0.177427\n",
      "7                                   HasChild_Yes    -0.151523         0.151523\n",
      "28         PaymentMethod_Credit card (automatic)    -0.149602         0.149602\n",
      "30                    PaymentMethod_Mailed check    -0.076629         0.076629\n",
      "2                                     TotalSpent     0.070001         0.070001\n",
      "16                           HasOnlineBackup_Yes    -0.044096         0.044096\n",
      "18                       HasDeviceProtection_Yes     0.034153         0.034153\n",
      "31                                 random_number     0.028876         0.028876\n",
      "5                                       Sex_Male    -0.027720         0.027720\n",
      "32                                 random_normal    -0.019655         0.019655\n",
      "6                                 HasPartner_Yes    -0.018034         0.018034\n"
     ]
    }
   ],
   "source": [
    "# Получаем коэффициенты\n",
    "coefficients = logreg.coef_[0]\n",
    "feature_importance = pd.DataFrame({\n",
    "    'feature': X_train.columns,\n",
    "    'coefficient': coefficients,\n",
    "    'abs_coefficient': np.abs(coefficients)\n",
    "}).sort_values('abs_coefficient', ascending=False)\n",
    "\n",
    "print(feature_importance)\n"
   ]
  },
  {
   "cell_type": "markdown",
   "metadata": {},
   "source": [
    "# Сделаем отсечку фичей по порогу 0.2"
   ]
  },
  {
   "cell_type": "code",
   "execution_count": 17,
   "metadata": {},
   "outputs": [],
   "source": [
    "thresh = 0.2\n",
    "to_drop = list(feature_importance[feature_importance.abs_coefficient < thresh].feature)\n",
    "\n",
    "\n",
    "X_train_without_unimportant = X_train.drop(to_drop, axis = 1)\n",
    "X_test_without_unimportant = X_test.drop(to_drop, axis = 1)\n",
    "\n"
   ]
  },
  {
   "cell_type": "code",
   "execution_count": 18,
   "metadata": {},
   "outputs": [
    {
     "data": {
      "text/html": [
       "<div>\n",
       "<style scoped>\n",
       "    .dataframe tbody tr th:only-of-type {\n",
       "        vertical-align: middle;\n",
       "    }\n",
       "\n",
       "    .dataframe tbody tr th {\n",
       "        vertical-align: top;\n",
       "    }\n",
       "\n",
       "    .dataframe thead th {\n",
       "        text-align: right;\n",
       "    }\n",
       "</style>\n",
       "<table border=\"1\" class=\"dataframe\">\n",
       "  <thead>\n",
       "    <tr style=\"text-align: right;\">\n",
       "      <th></th>\n",
       "      <th>ClientPeriod</th>\n",
       "      <th>MonthlySpending</th>\n",
       "      <th>IsSeniorCitizen</th>\n",
       "      <th>Spending_Change_Ratio</th>\n",
       "      <th>HasPhoneService_Yes</th>\n",
       "      <th>HasMultiplePhoneNumbers_No phone service</th>\n",
       "      <th>HasMultiplePhoneNumbers_Yes</th>\n",
       "      <th>HasInternetService_Fiber optic</th>\n",
       "      <th>HasOnlineSecurityService_Yes</th>\n",
       "      <th>HasTechSupportAccess_Yes</th>\n",
       "      <th>HasOnlineTV_Yes</th>\n",
       "      <th>HasMovieSubscription_Yes</th>\n",
       "      <th>HasContractPhone_One year</th>\n",
       "      <th>HasContractPhone_Two year</th>\n",
       "      <th>IsBillingPaperless_Yes</th>\n",
       "      <th>PaymentMethod_Electronic check</th>\n",
       "    </tr>\n",
       "  </thead>\n",
       "  <tbody>\n",
       "    <tr>\n",
       "      <th>4793</th>\n",
       "      <td>0.060892</td>\n",
       "      <td>-0.128599</td>\n",
       "      <td>0</td>\n",
       "      <td>-0.444318</td>\n",
       "      <td>False</td>\n",
       "      <td>True</td>\n",
       "      <td>False</td>\n",
       "      <td>False</td>\n",
       "      <td>True</td>\n",
       "      <td>True</td>\n",
       "      <td>True</td>\n",
       "      <td>True</td>\n",
       "      <td>True</td>\n",
       "      <td>False</td>\n",
       "      <td>False</td>\n",
       "      <td>False</td>\n",
       "    </tr>\n",
       "    <tr>\n",
       "      <th>5020</th>\n",
       "      <td>-0.837740</td>\n",
       "      <td>0.295644</td>\n",
       "      <td>0</td>\n",
       "      <td>-0.249847</td>\n",
       "      <td>True</td>\n",
       "      <td>False</td>\n",
       "      <td>True</td>\n",
       "      <td>False</td>\n",
       "      <td>False</td>\n",
       "      <td>True</td>\n",
       "      <td>True</td>\n",
       "      <td>True</td>\n",
       "      <td>True</td>\n",
       "      <td>False</td>\n",
       "      <td>False</td>\n",
       "      <td>False</td>\n",
       "    </tr>\n",
       "    <tr>\n",
       "      <th>655</th>\n",
       "      <td>-0.551811</td>\n",
       "      <td>0.812690</td>\n",
       "      <td>0</td>\n",
       "      <td>-0.371823</td>\n",
       "      <td>True</td>\n",
       "      <td>False</td>\n",
       "      <td>True</td>\n",
       "      <td>True</td>\n",
       "      <td>False</td>\n",
       "      <td>False</td>\n",
       "      <td>False</td>\n",
       "      <td>True</td>\n",
       "      <td>False</td>\n",
       "      <td>False</td>\n",
       "      <td>False</td>\n",
       "      <td>False</td>\n",
       "    </tr>\n",
       "    <tr>\n",
       "      <th>1874</th>\n",
       "      <td>0.714443</td>\n",
       "      <td>1.475569</td>\n",
       "      <td>0</td>\n",
       "      <td>-0.483757</td>\n",
       "      <td>True</td>\n",
       "      <td>False</td>\n",
       "      <td>True</td>\n",
       "      <td>True</td>\n",
       "      <td>True</td>\n",
       "      <td>True</td>\n",
       "      <td>True</td>\n",
       "      <td>True</td>\n",
       "      <td>False</td>\n",
       "      <td>True</td>\n",
       "      <td>True</td>\n",
       "      <td>True</td>\n",
       "    </tr>\n",
       "    <tr>\n",
       "      <th>2318</th>\n",
       "      <td>-1.246209</td>\n",
       "      <td>0.186269</td>\n",
       "      <td>1</td>\n",
       "      <td>1.086832</td>\n",
       "      <td>True</td>\n",
       "      <td>False</td>\n",
       "      <td>False</td>\n",
       "      <td>True</td>\n",
       "      <td>False</td>\n",
       "      <td>False</td>\n",
       "      <td>False</td>\n",
       "      <td>False</td>\n",
       "      <td>False</td>\n",
       "      <td>False</td>\n",
       "      <td>False</td>\n",
       "      <td>True</td>\n",
       "    </tr>\n",
       "    <tr>\n",
       "      <th>...</th>\n",
       "      <td>...</td>\n",
       "      <td>...</td>\n",
       "      <td>...</td>\n",
       "      <td>...</td>\n",
       "      <td>...</td>\n",
       "      <td>...</td>\n",
       "      <td>...</td>\n",
       "      <td>...</td>\n",
       "      <td>...</td>\n",
       "      <td>...</td>\n",
       "      <td>...</td>\n",
       "      <td>...</td>\n",
       "      <td>...</td>\n",
       "      <td>...</td>\n",
       "      <td>...</td>\n",
       "      <td>...</td>\n",
       "    </tr>\n",
       "    <tr>\n",
       "      <th>4154</th>\n",
       "      <td>1.449687</td>\n",
       "      <td>0.658570</td>\n",
       "      <td>0</td>\n",
       "      <td>-0.500266</td>\n",
       "      <td>True</td>\n",
       "      <td>False</td>\n",
       "      <td>False</td>\n",
       "      <td>False</td>\n",
       "      <td>True</td>\n",
       "      <td>True</td>\n",
       "      <td>True</td>\n",
       "      <td>True</td>\n",
       "      <td>False</td>\n",
       "      <td>True</td>\n",
       "      <td>True</td>\n",
       "      <td>False</td>\n",
       "    </tr>\n",
       "    <tr>\n",
       "      <th>5085</th>\n",
       "      <td>0.510208</td>\n",
       "      <td>-0.347349</td>\n",
       "      <td>0</td>\n",
       "      <td>-0.477837</td>\n",
       "      <td>True</td>\n",
       "      <td>False</td>\n",
       "      <td>False</td>\n",
       "      <td>False</td>\n",
       "      <td>True</td>\n",
       "      <td>True</td>\n",
       "      <td>False</td>\n",
       "      <td>False</td>\n",
       "      <td>False</td>\n",
       "      <td>True</td>\n",
       "      <td>False</td>\n",
       "      <td>False</td>\n",
       "    </tr>\n",
       "    <tr>\n",
       "      <th>295</th>\n",
       "      <td>-1.164515</td>\n",
       "      <td>0.191240</td>\n",
       "      <td>0</td>\n",
       "      <td>0.378367</td>\n",
       "      <td>True</td>\n",
       "      <td>False</td>\n",
       "      <td>False</td>\n",
       "      <td>True</td>\n",
       "      <td>False</td>\n",
       "      <td>False</td>\n",
       "      <td>False</td>\n",
       "      <td>False</td>\n",
       "      <td>False</td>\n",
       "      <td>False</td>\n",
       "      <td>True</td>\n",
       "      <td>False</td>\n",
       "    </tr>\n",
       "    <tr>\n",
       "      <th>1751</th>\n",
       "      <td>-0.470117</td>\n",
       "      <td>-0.965484</td>\n",
       "      <td>0</td>\n",
       "      <td>-0.388933</td>\n",
       "      <td>False</td>\n",
       "      <td>True</td>\n",
       "      <td>False</td>\n",
       "      <td>False</td>\n",
       "      <td>False</td>\n",
       "      <td>True</td>\n",
       "      <td>False</td>\n",
       "      <td>False</td>\n",
       "      <td>False</td>\n",
       "      <td>False</td>\n",
       "      <td>True</td>\n",
       "      <td>False</td>\n",
       "    </tr>\n",
       "    <tr>\n",
       "      <th>1756</th>\n",
       "      <td>-0.837740</td>\n",
       "      <td>-1.517331</td>\n",
       "      <td>0</td>\n",
       "      <td>-0.227255</td>\n",
       "      <td>True</td>\n",
       "      <td>False</td>\n",
       "      <td>False</td>\n",
       "      <td>False</td>\n",
       "      <td>False</td>\n",
       "      <td>False</td>\n",
       "      <td>False</td>\n",
       "      <td>False</td>\n",
       "      <td>False</td>\n",
       "      <td>True</td>\n",
       "      <td>False</td>\n",
       "      <td>False</td>\n",
       "    </tr>\n",
       "  </tbody>\n",
       "</table>\n",
       "<p>1054 rows × 16 columns</p>\n",
       "</div>"
      ],
      "text/plain": [
       "      ClientPeriod  MonthlySpending  IsSeniorCitizen  Spending_Change_Ratio  \\\n",
       "4793      0.060892        -0.128599                0              -0.444318   \n",
       "5020     -0.837740         0.295644                0              -0.249847   \n",
       "655      -0.551811         0.812690                0              -0.371823   \n",
       "1874      0.714443         1.475569                0              -0.483757   \n",
       "2318     -1.246209         0.186269                1               1.086832   \n",
       "...            ...              ...              ...                    ...   \n",
       "4154      1.449687         0.658570                0              -0.500266   \n",
       "5085      0.510208        -0.347349                0              -0.477837   \n",
       "295      -1.164515         0.191240                0               0.378367   \n",
       "1751     -0.470117        -0.965484                0              -0.388933   \n",
       "1756     -0.837740        -1.517331                0              -0.227255   \n",
       "\n",
       "      HasPhoneService_Yes  HasMultiplePhoneNumbers_No phone service  \\\n",
       "4793                False                                      True   \n",
       "5020                 True                                     False   \n",
       "655                  True                                     False   \n",
       "1874                 True                                     False   \n",
       "2318                 True                                     False   \n",
       "...                   ...                                       ...   \n",
       "4154                 True                                     False   \n",
       "5085                 True                                     False   \n",
       "295                  True                                     False   \n",
       "1751                False                                      True   \n",
       "1756                 True                                     False   \n",
       "\n",
       "      HasMultiplePhoneNumbers_Yes  HasInternetService_Fiber optic  \\\n",
       "4793                        False                           False   \n",
       "5020                         True                           False   \n",
       "655                          True                            True   \n",
       "1874                         True                            True   \n",
       "2318                        False                            True   \n",
       "...                           ...                             ...   \n",
       "4154                        False                           False   \n",
       "5085                        False                           False   \n",
       "295                         False                            True   \n",
       "1751                        False                           False   \n",
       "1756                        False                           False   \n",
       "\n",
       "      HasOnlineSecurityService_Yes  HasTechSupportAccess_Yes  HasOnlineTV_Yes  \\\n",
       "4793                          True                      True             True   \n",
       "5020                         False                      True             True   \n",
       "655                          False                     False            False   \n",
       "1874                          True                      True             True   \n",
       "2318                         False                     False            False   \n",
       "...                            ...                       ...              ...   \n",
       "4154                          True                      True             True   \n",
       "5085                          True                      True            False   \n",
       "295                          False                     False            False   \n",
       "1751                         False                      True            False   \n",
       "1756                         False                     False            False   \n",
       "\n",
       "      HasMovieSubscription_Yes  HasContractPhone_One year  \\\n",
       "4793                      True                       True   \n",
       "5020                      True                       True   \n",
       "655                       True                      False   \n",
       "1874                      True                      False   \n",
       "2318                     False                      False   \n",
       "...                        ...                        ...   \n",
       "4154                      True                      False   \n",
       "5085                     False                      False   \n",
       "295                      False                      False   \n",
       "1751                     False                      False   \n",
       "1756                     False                      False   \n",
       "\n",
       "      HasContractPhone_Two year  IsBillingPaperless_Yes  \\\n",
       "4793                      False                   False   \n",
       "5020                      False                   False   \n",
       "655                       False                   False   \n",
       "1874                       True                    True   \n",
       "2318                      False                   False   \n",
       "...                         ...                     ...   \n",
       "4154                       True                    True   \n",
       "5085                       True                   False   \n",
       "295                       False                    True   \n",
       "1751                      False                    True   \n",
       "1756                       True                   False   \n",
       "\n",
       "      PaymentMethod_Electronic check  \n",
       "4793                           False  \n",
       "5020                           False  \n",
       "655                            False  \n",
       "1874                            True  \n",
       "2318                            True  \n",
       "...                              ...  \n",
       "4154                           False  \n",
       "5085                           False  \n",
       "295                            False  \n",
       "1751                           False  \n",
       "1756                           False  \n",
       "\n",
       "[1054 rows x 16 columns]"
      ]
     },
     "execution_count": 18,
     "metadata": {},
     "output_type": "execute_result"
    }
   ],
   "source": [
    "X_test_without_unimportant"
   ]
  },
  {
   "cell_type": "code",
   "execution_count": 19,
   "metadata": {},
   "outputs": [],
   "source": [
    "from scripts import config\n",
    "processed_path = config.get_processed_data_path(version= 'processed_path_processed_path_without_unimportant', path = '../configs/data_config.yaml')\n",
    "\n",
    "cols = list(X_train_without_unimportant.columns)\n",
    "cols.append('Churn')\n",
    "df[cols].to_csv(processed_path)"
   ]
  },
  {
   "cell_type": "code",
   "execution_count": 20,
   "metadata": {},
   "outputs": [
    {
     "name": "stdout",
     "output_type": "stream",
     "text": [
      "================================================== model:  logreg_without_unimportant ==================================================\n",
      "              precision    recall  f1-score   support\n",
      "\n",
      "           0       0.83      0.91      0.87       773\n",
      "           1       0.67      0.50      0.57       281\n",
      "\n",
      "    accuracy                           0.80      1054\n",
      "   macro avg       0.75      0.71      0.72      1054\n",
      "weighted avg       0.79      0.80      0.79      1054\n",
      "\n",
      "roc_auc = 0.8497005243700884\n"
     ]
    },
    {
     "data": {
      "text/html": [
       "Finishing previous runs because reinit is set to 'default'."
      ],
      "text/plain": [
       "<IPython.core.display.HTML object>"
      ]
     },
     "metadata": {},
     "output_type": "display_data"
    },
    {
     "data": {
      "text/html": [],
      "text/plain": [
       "<IPython.core.display.HTML object>"
      ]
     },
     "metadata": {},
     "output_type": "display_data"
    },
    {
     "data": {
      "text/html": [
       " View run <strong style=\"color:#cdcd00\">LogisticRegression</strong> at: <a href='https://wandb.ai/sutormin/churn_predict/runs/vcmtphnk' target=\"_blank\">https://wandb.ai/sutormin/churn_predict/runs/vcmtphnk</a><br> View project at: <a href='https://wandb.ai/sutormin/churn_predict' target=\"_blank\">https://wandb.ai/sutormin/churn_predict</a><br>Synced 5 W&B file(s), 5 media file(s), 10 artifact file(s) and 0 other file(s)"
      ],
      "text/plain": [
       "<IPython.core.display.HTML object>"
      ]
     },
     "metadata": {},
     "output_type": "display_data"
    },
    {
     "data": {
      "text/html": [
       "Find logs at: <code>.\\wandb\\run-20250923_101136-vcmtphnk\\logs</code>"
      ],
      "text/plain": [
       "<IPython.core.display.HTML object>"
      ]
     },
     "metadata": {},
     "output_type": "display_data"
    },
    {
     "data": {
      "text/html": [],
      "text/plain": [
       "<IPython.core.display.HTML object>"
      ]
     },
     "metadata": {},
     "output_type": "display_data"
    },
    {
     "data": {
      "text/html": [
       "Tracking run with wandb version 0.22.0"
      ],
      "text/plain": [
       "<IPython.core.display.HTML object>"
      ]
     },
     "metadata": {},
     "output_type": "display_data"
    },
    {
     "data": {
      "text/html": [
       "Run data is saved locally in <code>c:\\Users\\user\\Desktop\\Projects\\Mentors\\PredictingUserChurn\\notebooks\\wandb\\run-20250923_101151-1k6bc81g</code>"
      ],
      "text/plain": [
       "<IPython.core.display.HTML object>"
      ]
     },
     "metadata": {},
     "output_type": "display_data"
    },
    {
     "data": {
      "text/html": [
       "Syncing run <strong><a href='https://wandb.ai/sutormin/churn_predict/runs/1k6bc81g' target=\"_blank\">LogisticRegression</a></strong> to <a href='https://wandb.ai/sutormin/churn_predict' target=\"_blank\">Weights & Biases</a> (<a href='https://wandb.me/developer-guide' target=\"_blank\">docs</a>)<br>"
      ],
      "text/plain": [
       "<IPython.core.display.HTML object>"
      ]
     },
     "metadata": {},
     "output_type": "display_data"
    },
    {
     "data": {
      "text/html": [
       " View project at <a href='https://wandb.ai/sutormin/churn_predict' target=\"_blank\">https://wandb.ai/sutormin/churn_predict</a>"
      ],
      "text/plain": [
       "<IPython.core.display.HTML object>"
      ]
     },
     "metadata": {},
     "output_type": "display_data"
    },
    {
     "data": {
      "text/html": [
       " View run at <a href='https://wandb.ai/sutormin/churn_predict/runs/1k6bc81g' target=\"_blank\">https://wandb.ai/sutormin/churn_predict/runs/1k6bc81g</a>"
      ],
      "text/plain": [
       "<IPython.core.display.HTML object>"
      ]
     },
     "metadata": {},
     "output_type": "display_data"
    },
    {
     "name": "stderr",
     "output_type": "stream",
     "text": [
      "c:\\Users\\user\\Desktop\\Projects\\Mentors\\PredictingUserChurn\\churn_predict_venv\\Lib\\site-packages\\sklearn\\utils\\validation.py:2749: UserWarning: X does not have valid feature names, but LogisticRegression was fitted with feature names\n",
      "  warnings.warn(\n"
     ]
    },
    {
     "name": "stdout",
     "output_type": "stream",
     "text": [
      "✅ Эксперимент сохранен: ..\\configs\\experiments\\exp6.yaml\n"
     ]
    }
   ],
   "source": [
    "logreg = LogisticRegression()\n",
    "train_and_log('logreg_without_unimportant' , logreg, X_train_without_unimportant, y_train, X_test_without_unimportant, y_test, experiments_dir, reports, roc_aucs)\n",
    "\n",
    "\n"
   ]
  },
  {
   "cell_type": "code",
   "execution_count": 21,
   "metadata": {},
   "outputs": [
    {
     "name": "stdout",
     "output_type": "stream",
     "text": [
      "              precision    recall  f1-score      support\n",
      "0              0.835308  0.912031  0.871985   773.000000\n",
      "1              0.676190  0.505338  0.578411   281.000000\n",
      "accuracy       0.803605  0.803605  0.803605     0.803605\n",
      "macro avg      0.755749  0.708685  0.725198  1054.000000\n",
      "weighted avg   0.792887  0.803605  0.793717  1054.000000\n",
      "0.8495532035375415\n"
     ]
    }
   ],
   "source": [
    "print(pd.DataFrame(reports['logreg']).T)\n",
    "print(roc_aucs['logreg'])"
   ]
  },
  {
   "cell_type": "code",
   "execution_count": 22,
   "metadata": {},
   "outputs": [
    {
     "name": "stdout",
     "output_type": "stream",
     "text": [
      "              precision    recall  f1-score      support\n",
      "0              0.833333  0.912031  0.870908   773.000000\n",
      "1              0.673077  0.498221  0.572597   281.000000\n",
      "accuracy       0.801708  0.801708  0.801708     0.801708\n",
      "macro avg      0.753205  0.705126  0.721753  1054.000000\n",
      "weighted avg   0.790608  0.801708  0.791377  1054.000000\n",
      "0.8497005243700884\n"
     ]
    }
   ],
   "source": [
    "print(pd.DataFrame(reports['logreg_without_unimportant']).T)\n",
    "print(roc_aucs['logreg_without_unimportant'])"
   ]
  },
  {
   "cell_type": "markdown",
   "metadata": {},
   "source": [
    "#"
   ]
  },
  {
   "cell_type": "markdown",
   "metadata": {},
   "source": [
    "# roc auc стал совсееееем чуть лучше"
   ]
  },
  {
   "cell_type": "code",
   "execution_count": 23,
   "metadata": {},
   "outputs": [
    {
     "data": {
      "text/plain": [
       "{'C': 1.0,\n",
       " 'class_weight': None,\n",
       " 'dual': False,\n",
       " 'fit_intercept': True,\n",
       " 'intercept_scaling': 1,\n",
       " 'l1_ratio': None,\n",
       " 'max_iter': 100,\n",
       " 'multi_class': 'deprecated',\n",
       " 'n_jobs': None,\n",
       " 'penalty': 'l2',\n",
       " 'random_state': None,\n",
       " 'solver': 'lbfgs',\n",
       " 'tol': 0.0001,\n",
       " 'verbose': 0,\n",
       " 'warm_start': False}"
      ]
     },
     "execution_count": 23,
     "metadata": {},
     "output_type": "execute_result"
    }
   ],
   "source": [
    "logreg.get_params()"
   ]
  },
  {
   "cell_type": "code",
   "execution_count": 24,
   "metadata": {},
   "outputs": [
    {
     "name": "stdout",
     "output_type": "stream",
     "text": [
      "================================================== model:  logreg_l1 ==================================================\n",
      "              precision    recall  f1-score   support\n",
      "\n",
      "           0       0.83      0.91      0.87       773\n",
      "           1       0.67      0.50      0.57       281\n",
      "\n",
      "    accuracy                           0.80      1054\n",
      "   macro avg       0.75      0.71      0.72      1054\n",
      "weighted avg       0.79      0.80      0.79      1054\n",
      "\n",
      "roc_auc = 0.8497005243700884\n"
     ]
    },
    {
     "data": {
      "text/html": [
       "Finishing previous runs because reinit is set to 'default'."
      ],
      "text/plain": [
       "<IPython.core.display.HTML object>"
      ]
     },
     "metadata": {},
     "output_type": "display_data"
    },
    {
     "name": "stderr",
     "output_type": "stream",
     "text": [
      "\u001b[34m\u001b[1mwandb\u001b[0m: \u001b[32m\u001b[41mERROR\u001b[0m The nbformat package was not found. It is required to save notebook history.\n"
     ]
    },
    {
     "data": {
      "text/html": [],
      "text/plain": [
       "<IPython.core.display.HTML object>"
      ]
     },
     "metadata": {},
     "output_type": "display_data"
    },
    {
     "data": {
      "text/html": [
       " View run <strong style=\"color:#cdcd00\">LogisticRegression</strong> at: <a href='https://wandb.ai/sutormin/churn_predict/runs/1k6bc81g' target=\"_blank\">https://wandb.ai/sutormin/churn_predict/runs/1k6bc81g</a><br> View project at: <a href='https://wandb.ai/sutormin/churn_predict' target=\"_blank\">https://wandb.ai/sutormin/churn_predict</a><br>Synced 5 W&B file(s), 5 media file(s), 10 artifact file(s) and 0 other file(s)"
      ],
      "text/plain": [
       "<IPython.core.display.HTML object>"
      ]
     },
     "metadata": {},
     "output_type": "display_data"
    },
    {
     "data": {
      "text/html": [
       "Find logs at: <code>.\\wandb\\run-20250923_101151-1k6bc81g\\logs</code>"
      ],
      "text/plain": [
       "<IPython.core.display.HTML object>"
      ]
     },
     "metadata": {},
     "output_type": "display_data"
    },
    {
     "data": {
      "text/html": [],
      "text/plain": [
       "<IPython.core.display.HTML object>"
      ]
     },
     "metadata": {},
     "output_type": "display_data"
    },
    {
     "data": {
      "text/html": [
       "Tracking run with wandb version 0.22.0"
      ],
      "text/plain": [
       "<IPython.core.display.HTML object>"
      ]
     },
     "metadata": {},
     "output_type": "display_data"
    },
    {
     "data": {
      "text/html": [
       "Run data is saved locally in <code>c:\\Users\\user\\Desktop\\Projects\\Mentors\\PredictingUserChurn\\notebooks\\wandb\\run-20250923_101204-g6hy7chl</code>"
      ],
      "text/plain": [
       "<IPython.core.display.HTML object>"
      ]
     },
     "metadata": {},
     "output_type": "display_data"
    },
    {
     "data": {
      "text/html": [
       "Syncing run <strong><a href='https://wandb.ai/sutormin/churn_predict/runs/g6hy7chl' target=\"_blank\">LogisticRegression</a></strong> to <a href='https://wandb.ai/sutormin/churn_predict' target=\"_blank\">Weights & Biases</a> (<a href='https://wandb.me/developer-guide' target=\"_blank\">docs</a>)<br>"
      ],
      "text/plain": [
       "<IPython.core.display.HTML object>"
      ]
     },
     "metadata": {},
     "output_type": "display_data"
    },
    {
     "data": {
      "text/html": [
       " View project at <a href='https://wandb.ai/sutormin/churn_predict' target=\"_blank\">https://wandb.ai/sutormin/churn_predict</a>"
      ],
      "text/plain": [
       "<IPython.core.display.HTML object>"
      ]
     },
     "metadata": {},
     "output_type": "display_data"
    },
    {
     "data": {
      "text/html": [
       " View run at <a href='https://wandb.ai/sutormin/churn_predict/runs/g6hy7chl' target=\"_blank\">https://wandb.ai/sutormin/churn_predict/runs/g6hy7chl</a>"
      ],
      "text/plain": [
       "<IPython.core.display.HTML object>"
      ]
     },
     "metadata": {},
     "output_type": "display_data"
    },
    {
     "name": "stderr",
     "output_type": "stream",
     "text": [
      "c:\\Users\\user\\Desktop\\Projects\\Mentors\\PredictingUserChurn\\churn_predict_venv\\Lib\\site-packages\\sklearn\\utils\\validation.py:2749: UserWarning: X does not have valid feature names, but LogisticRegression was fitted with feature names\n",
      "  warnings.warn(\n"
     ]
    },
    {
     "name": "stdout",
     "output_type": "stream",
     "text": [
      "✅ Эксперимент сохранен: ..\\configs\\experiments\\exp7.yaml\n",
      "================================================== model:  logreg_elastic ==================================================\n",
      "              precision    recall  f1-score   support\n",
      "\n",
      "           0       0.83      0.91      0.87       773\n",
      "           1       0.67      0.50      0.57       281\n",
      "\n",
      "    accuracy                           0.80      1054\n",
      "   macro avg       0.75      0.71      0.72      1054\n",
      "weighted avg       0.79      0.80      0.79      1054\n",
      "\n",
      "roc_auc = 0.8497005243700884\n"
     ]
    },
    {
     "data": {
      "text/html": [
       "Finishing previous runs because reinit is set to 'default'."
      ],
      "text/plain": [
       "<IPython.core.display.HTML object>"
      ]
     },
     "metadata": {},
     "output_type": "display_data"
    },
    {
     "data": {
      "text/html": [],
      "text/plain": [
       "<IPython.core.display.HTML object>"
      ]
     },
     "metadata": {},
     "output_type": "display_data"
    },
    {
     "data": {
      "text/html": [
       " View run <strong style=\"color:#cdcd00\">LogisticRegression</strong> at: <a href='https://wandb.ai/sutormin/churn_predict/runs/g6hy7chl' target=\"_blank\">https://wandb.ai/sutormin/churn_predict/runs/g6hy7chl</a><br> View project at: <a href='https://wandb.ai/sutormin/churn_predict' target=\"_blank\">https://wandb.ai/sutormin/churn_predict</a><br>Synced 5 W&B file(s), 5 media file(s), 10 artifact file(s) and 0 other file(s)"
      ],
      "text/plain": [
       "<IPython.core.display.HTML object>"
      ]
     },
     "metadata": {},
     "output_type": "display_data"
    },
    {
     "data": {
      "text/html": [
       "Find logs at: <code>.\\wandb\\run-20250923_101204-g6hy7chl\\logs</code>"
      ],
      "text/plain": [
       "<IPython.core.display.HTML object>"
      ]
     },
     "metadata": {},
     "output_type": "display_data"
    },
    {
     "data": {
      "text/html": [],
      "text/plain": [
       "<IPython.core.display.HTML object>"
      ]
     },
     "metadata": {},
     "output_type": "display_data"
    },
    {
     "data": {
      "text/html": [
       "Tracking run with wandb version 0.22.0"
      ],
      "text/plain": [
       "<IPython.core.display.HTML object>"
      ]
     },
     "metadata": {},
     "output_type": "display_data"
    },
    {
     "data": {
      "text/html": [
       "Run data is saved locally in <code>c:\\Users\\user\\Desktop\\Projects\\Mentors\\PredictingUserChurn\\notebooks\\wandb\\run-20250923_101216-y2o2tguc</code>"
      ],
      "text/plain": [
       "<IPython.core.display.HTML object>"
      ]
     },
     "metadata": {},
     "output_type": "display_data"
    },
    {
     "data": {
      "text/html": [
       "Syncing run <strong><a href='https://wandb.ai/sutormin/churn_predict/runs/y2o2tguc' target=\"_blank\">LogisticRegression</a></strong> to <a href='https://wandb.ai/sutormin/churn_predict' target=\"_blank\">Weights & Biases</a> (<a href='https://wandb.me/developer-guide' target=\"_blank\">docs</a>)<br>"
      ],
      "text/plain": [
       "<IPython.core.display.HTML object>"
      ]
     },
     "metadata": {},
     "output_type": "display_data"
    },
    {
     "data": {
      "text/html": [
       " View project at <a href='https://wandb.ai/sutormin/churn_predict' target=\"_blank\">https://wandb.ai/sutormin/churn_predict</a>"
      ],
      "text/plain": [
       "<IPython.core.display.HTML object>"
      ]
     },
     "metadata": {},
     "output_type": "display_data"
    },
    {
     "data": {
      "text/html": [
       " View run at <a href='https://wandb.ai/sutormin/churn_predict/runs/y2o2tguc' target=\"_blank\">https://wandb.ai/sutormin/churn_predict/runs/y2o2tguc</a>"
      ],
      "text/plain": [
       "<IPython.core.display.HTML object>"
      ]
     },
     "metadata": {},
     "output_type": "display_data"
    },
    {
     "name": "stderr",
     "output_type": "stream",
     "text": [
      "c:\\Users\\user\\Desktop\\Projects\\Mentors\\PredictingUserChurn\\churn_predict_venv\\Lib\\site-packages\\sklearn\\utils\\validation.py:2749: UserWarning: X does not have valid feature names, but LogisticRegression was fitted with feature names\n",
      "  warnings.warn(\n"
     ]
    },
    {
     "name": "stdout",
     "output_type": "stream",
     "text": [
      "✅ Эксперимент сохранен: ..\\configs\\experiments\\exp8.yaml\n"
     ]
    }
   ],
   "source": [
    "logregl1 = LogisticRegression(penalty='l1')\n",
    "\n",
    "logreg3 = LogisticRegression(penalty= 'elasticnet')\n",
    "\n",
    "train_and_log('logreg_l1', logreg, X_train_without_unimportant, y_train, X_test_without_unimportant, y_test, experiments_dir, reports, roc_aucs)\n",
    "train_and_log('logreg_elastic', logreg, X_train_without_unimportant, y_train, X_test_without_unimportant, y_test, experiments_dir, reports, roc_aucs)"
   ]
  },
  {
   "cell_type": "markdown",
   "metadata": {},
   "source": [
    "# От пенальти не зависит"
   ]
  },
  {
   "cell_type": "markdown",
   "metadata": {},
   "source": [
    "# class weight не улучшает\n"
   ]
  },
  {
   "cell_type": "code",
   "execution_count": 29,
   "metadata": {},
   "outputs": [
    {
     "name": "stdout",
     "output_type": "stream",
     "text": [
      "================================================== model:  logreg_class_weight ==================================================\n",
      "              precision    recall  f1-score   support\n",
      "\n",
      "           0       0.90      0.74      0.81       773\n",
      "           1       0.52      0.78      0.63       281\n",
      "\n",
      "    accuracy                           0.75      1054\n",
      "   macro avg       0.71      0.76      0.72      1054\n",
      "weighted avg       0.80      0.75      0.76      1054\n",
      "\n",
      "roc_auc = 0.8492999958566017\n"
     ]
    },
    {
     "data": {
      "text/html": [
       "Finishing previous runs because reinit is set to 'default'."
      ],
      "text/plain": [
       "<IPython.core.display.HTML object>"
      ]
     },
     "metadata": {},
     "output_type": "display_data"
    },
    {
     "data": {
      "text/html": [],
      "text/plain": [
       "<IPython.core.display.HTML object>"
      ]
     },
     "metadata": {},
     "output_type": "display_data"
    },
    {
     "data": {
      "text/html": [
       " View run <strong style=\"color:#cdcd00\">LogisticRegression</strong> at: <a href='https://wandb.ai/sutormin/churn_predict/runs/6dljc09u' target=\"_blank\">https://wandb.ai/sutormin/churn_predict/runs/6dljc09u</a><br> View project at: <a href='https://wandb.ai/sutormin/churn_predict' target=\"_blank\">https://wandb.ai/sutormin/churn_predict</a><br>Synced 5 W&B file(s), 5 media file(s), 10 artifact file(s) and 0 other file(s)"
      ],
      "text/plain": [
       "<IPython.core.display.HTML object>"
      ]
     },
     "metadata": {},
     "output_type": "display_data"
    },
    {
     "data": {
      "text/html": [
       "Find logs at: <code>.\\wandb\\run-20250923_101324-6dljc09u\\logs</code>"
      ],
      "text/plain": [
       "<IPython.core.display.HTML object>"
      ]
     },
     "metadata": {},
     "output_type": "display_data"
    },
    {
     "data": {
      "text/html": [],
      "text/plain": [
       "<IPython.core.display.HTML object>"
      ]
     },
     "metadata": {},
     "output_type": "display_data"
    },
    {
     "data": {
      "text/html": [
       "Tracking run with wandb version 0.22.0"
      ],
      "text/plain": [
       "<IPython.core.display.HTML object>"
      ]
     },
     "metadata": {},
     "output_type": "display_data"
    },
    {
     "data": {
      "text/html": [
       "Run data is saved locally in <code>c:\\Users\\user\\Desktop\\Projects\\Mentors\\PredictingUserChurn\\notebooks\\wandb\\run-20250923_101356-zxsvfg8d</code>"
      ],
      "text/plain": [
       "<IPython.core.display.HTML object>"
      ]
     },
     "metadata": {},
     "output_type": "display_data"
    },
    {
     "data": {
      "text/html": [
       "Syncing run <strong><a href='https://wandb.ai/sutormin/churn_predict/runs/zxsvfg8d' target=\"_blank\">LogisticRegression</a></strong> to <a href='https://wandb.ai/sutormin/churn_predict' target=\"_blank\">Weights & Biases</a> (<a href='https://wandb.me/developer-guide' target=\"_blank\">docs</a>)<br>"
      ],
      "text/plain": [
       "<IPython.core.display.HTML object>"
      ]
     },
     "metadata": {},
     "output_type": "display_data"
    },
    {
     "data": {
      "text/html": [
       " View project at <a href='https://wandb.ai/sutormin/churn_predict' target=\"_blank\">https://wandb.ai/sutormin/churn_predict</a>"
      ],
      "text/plain": [
       "<IPython.core.display.HTML object>"
      ]
     },
     "metadata": {},
     "output_type": "display_data"
    },
    {
     "data": {
      "text/html": [
       " View run at <a href='https://wandb.ai/sutormin/churn_predict/runs/zxsvfg8d' target=\"_blank\">https://wandb.ai/sutormin/churn_predict/runs/zxsvfg8d</a>"
      ],
      "text/plain": [
       "<IPython.core.display.HTML object>"
      ]
     },
     "metadata": {},
     "output_type": "display_data"
    },
    {
     "name": "stderr",
     "output_type": "stream",
     "text": [
      "c:\\Users\\user\\Desktop\\Projects\\Mentors\\PredictingUserChurn\\churn_predict_venv\\Lib\\site-packages\\sklearn\\utils\\validation.py:2749: UserWarning: X does not have valid feature names, but LogisticRegression was fitted with feature names\n",
      "  warnings.warn(\n"
     ]
    },
    {
     "name": "stdout",
     "output_type": "stream",
     "text": [
      "✅ Эксперимент сохранен: ..\\configs\\experiments\\exp12.yaml\n"
     ]
    }
   ],
   "source": [
    "\n",
    "logreg = LogisticRegression(class_weight = {0: 1, 1: 3})\n",
    "\n",
    "train_and_log('logreg_class_weight', logreg, X_train_without_unimportant, y_train, X_test_without_unimportant, y_test, experiments_dir, reports, roc_aucs)"
   ]
  },
  {
   "cell_type": "code",
   "execution_count": 34,
   "metadata": {},
   "outputs": [
    {
     "name": "stdout",
     "output_type": "stream",
     "text": [
      "================================================== model:  logreg_C ==================================================\n",
      "              precision    recall  f1-score   support\n",
      "\n",
      "           0       0.83      0.91      0.87       773\n",
      "           1       0.67      0.50      0.57       281\n",
      "\n",
      "    accuracy                           0.80      1054\n",
      "   macro avg       0.75      0.71      0.72      1054\n",
      "weighted avg       0.79      0.80      0.79      1054\n",
      "\n",
      "roc_auc = 0.849686713042037\n"
     ]
    },
    {
     "data": {
      "text/html": [
       "Finishing previous runs because reinit is set to 'default'."
      ],
      "text/plain": [
       "<IPython.core.display.HTML object>"
      ]
     },
     "metadata": {},
     "output_type": "display_data"
    },
    {
     "name": "stderr",
     "output_type": "stream",
     "text": [
      "\u001b[34m\u001b[1mwandb\u001b[0m: \u001b[32m\u001b[41mERROR\u001b[0m The nbformat package was not found. It is required to save notebook history.\n"
     ]
    },
    {
     "data": {
      "text/html": [],
      "text/plain": [
       "<IPython.core.display.HTML object>"
      ]
     },
     "metadata": {},
     "output_type": "display_data"
    },
    {
     "data": {
      "text/html": [
       " View run <strong style=\"color:#cdcd00\">LogisticRegression</strong> at: <a href='https://wandb.ai/sutormin/churn_predict/runs/nzvsyswg' target=\"_blank\">https://wandb.ai/sutormin/churn_predict/runs/nzvsyswg</a><br> View project at: <a href='https://wandb.ai/sutormin/churn_predict' target=\"_blank\">https://wandb.ai/sutormin/churn_predict</a><br>Synced 5 W&B file(s), 5 media file(s), 10 artifact file(s) and 0 other file(s)"
      ],
      "text/plain": [
       "<IPython.core.display.HTML object>"
      ]
     },
     "metadata": {},
     "output_type": "display_data"
    },
    {
     "data": {
      "text/html": [
       "Find logs at: <code>.\\wandb\\run-20250923_101514-nzvsyswg\\logs</code>"
      ],
      "text/plain": [
       "<IPython.core.display.HTML object>"
      ]
     },
     "metadata": {},
     "output_type": "display_data"
    },
    {
     "data": {
      "text/html": [],
      "text/plain": [
       "<IPython.core.display.HTML object>"
      ]
     },
     "metadata": {},
     "output_type": "display_data"
    },
    {
     "data": {
      "text/html": [
       "Tracking run with wandb version 0.22.0"
      ],
      "text/plain": [
       "<IPython.core.display.HTML object>"
      ]
     },
     "metadata": {},
     "output_type": "display_data"
    },
    {
     "data": {
      "text/html": [
       "Run data is saved locally in <code>c:\\Users\\user\\Desktop\\Projects\\Mentors\\PredictingUserChurn\\notebooks\\wandb\\run-20250923_101615-e34zdk8x</code>"
      ],
      "text/plain": [
       "<IPython.core.display.HTML object>"
      ]
     },
     "metadata": {},
     "output_type": "display_data"
    },
    {
     "data": {
      "text/html": [
       "Syncing run <strong><a href='https://wandb.ai/sutormin/churn_predict/runs/e34zdk8x' target=\"_blank\">LogisticRegression</a></strong> to <a href='https://wandb.ai/sutormin/churn_predict' target=\"_blank\">Weights & Biases</a> (<a href='https://wandb.me/developer-guide' target=\"_blank\">docs</a>)<br>"
      ],
      "text/plain": [
       "<IPython.core.display.HTML object>"
      ]
     },
     "metadata": {},
     "output_type": "display_data"
    },
    {
     "data": {
      "text/html": [
       " View project at <a href='https://wandb.ai/sutormin/churn_predict' target=\"_blank\">https://wandb.ai/sutormin/churn_predict</a>"
      ],
      "text/plain": [
       "<IPython.core.display.HTML object>"
      ]
     },
     "metadata": {},
     "output_type": "display_data"
    },
    {
     "data": {
      "text/html": [
       " View run at <a href='https://wandb.ai/sutormin/churn_predict/runs/e34zdk8x' target=\"_blank\">https://wandb.ai/sutormin/churn_predict/runs/e34zdk8x</a>"
      ],
      "text/plain": [
       "<IPython.core.display.HTML object>"
      ]
     },
     "metadata": {},
     "output_type": "display_data"
    },
    {
     "name": "stderr",
     "output_type": "stream",
     "text": [
      "c:\\Users\\user\\Desktop\\Projects\\Mentors\\PredictingUserChurn\\churn_predict_venv\\Lib\\site-packages\\sklearn\\utils\\validation.py:2749: UserWarning: X does not have valid feature names, but LogisticRegression was fitted with feature names\n",
      "  warnings.warn(\n"
     ]
    },
    {
     "name": "stdout",
     "output_type": "stream",
     "text": [
      "✅ Эксперимент сохранен: ..\\configs\\experiments\\exp15.yaml\n",
      "================================================== model:  logreg_C ==================================================\n",
      "              precision    recall  f1-score   support\n",
      "\n",
      "           0       0.83      0.91      0.87       773\n",
      "           1       0.68      0.50      0.57       281\n",
      "\n",
      "    accuracy                           0.80      1054\n",
      "   macro avg       0.75      0.71      0.72      1054\n",
      "weighted avg       0.79      0.80      0.79      1054\n",
      "\n",
      "roc_auc = 0.8497051281461054\n"
     ]
    },
    {
     "data": {
      "text/html": [
       "Finishing previous runs because reinit is set to 'default'."
      ],
      "text/plain": [
       "<IPython.core.display.HTML object>"
      ]
     },
     "metadata": {},
     "output_type": "display_data"
    },
    {
     "data": {
      "text/html": [],
      "text/plain": [
       "<IPython.core.display.HTML object>"
      ]
     },
     "metadata": {},
     "output_type": "display_data"
    },
    {
     "data": {
      "text/html": [
       " View run <strong style=\"color:#cdcd00\">LogisticRegression</strong> at: <a href='https://wandb.ai/sutormin/churn_predict/runs/e34zdk8x' target=\"_blank\">https://wandb.ai/sutormin/churn_predict/runs/e34zdk8x</a><br> View project at: <a href='https://wandb.ai/sutormin/churn_predict' target=\"_blank\">https://wandb.ai/sutormin/churn_predict</a><br>Synced 5 W&B file(s), 5 media file(s), 10 artifact file(s) and 0 other file(s)"
      ],
      "text/plain": [
       "<IPython.core.display.HTML object>"
      ]
     },
     "metadata": {},
     "output_type": "display_data"
    },
    {
     "data": {
      "text/html": [
       "Find logs at: <code>.\\wandb\\run-20250923_101615-e34zdk8x\\logs</code>"
      ],
      "text/plain": [
       "<IPython.core.display.HTML object>"
      ]
     },
     "metadata": {},
     "output_type": "display_data"
    },
    {
     "data": {
      "text/html": [],
      "text/plain": [
       "<IPython.core.display.HTML object>"
      ]
     },
     "metadata": {},
     "output_type": "display_data"
    },
    {
     "data": {
      "text/html": [
       "Tracking run with wandb version 0.22.0"
      ],
      "text/plain": [
       "<IPython.core.display.HTML object>"
      ]
     },
     "metadata": {},
     "output_type": "display_data"
    },
    {
     "data": {
      "text/html": [
       "Run data is saved locally in <code>c:\\Users\\user\\Desktop\\Projects\\Mentors\\PredictingUserChurn\\notebooks\\wandb\\run-20250923_101626-xlzn2cor</code>"
      ],
      "text/plain": [
       "<IPython.core.display.HTML object>"
      ]
     },
     "metadata": {},
     "output_type": "display_data"
    },
    {
     "data": {
      "text/html": [
       "Syncing run <strong><a href='https://wandb.ai/sutormin/churn_predict/runs/xlzn2cor' target=\"_blank\">LogisticRegression</a></strong> to <a href='https://wandb.ai/sutormin/churn_predict' target=\"_blank\">Weights & Biases</a> (<a href='https://wandb.me/developer-guide' target=\"_blank\">docs</a>)<br>"
      ],
      "text/plain": [
       "<IPython.core.display.HTML object>"
      ]
     },
     "metadata": {},
     "output_type": "display_data"
    },
    {
     "data": {
      "text/html": [
       " View project at <a href='https://wandb.ai/sutormin/churn_predict' target=\"_blank\">https://wandb.ai/sutormin/churn_predict</a>"
      ],
      "text/plain": [
       "<IPython.core.display.HTML object>"
      ]
     },
     "metadata": {},
     "output_type": "display_data"
    },
    {
     "data": {
      "text/html": [
       " View run at <a href='https://wandb.ai/sutormin/churn_predict/runs/xlzn2cor' target=\"_blank\">https://wandb.ai/sutormin/churn_predict/runs/xlzn2cor</a>"
      ],
      "text/plain": [
       "<IPython.core.display.HTML object>"
      ]
     },
     "metadata": {},
     "output_type": "display_data"
    },
    {
     "name": "stderr",
     "output_type": "stream",
     "text": [
      "c:\\Users\\user\\Desktop\\Projects\\Mentors\\PredictingUserChurn\\churn_predict_venv\\Lib\\site-packages\\sklearn\\utils\\validation.py:2749: UserWarning: X does not have valid feature names, but LogisticRegression was fitted with feature names\n",
      "  warnings.warn(\n"
     ]
    },
    {
     "name": "stdout",
     "output_type": "stream",
     "text": [
      "✅ Эксперимент сохранен: ..\\configs\\experiments\\exp16.yaml\n"
     ]
    }
   ],
   "source": [
    "\n",
    "logreg = LogisticRegression(C = 2)\n",
    "\n",
    "train_and_log('logreg_C', logreg, X_train_without_unimportant, y_train, X_test_without_unimportant, y_test, experiments_dir, reports, roc_aucs)\n",
    "\n",
    "logreg = LogisticRegression(C = 0.5)\n",
    "\n",
    "train_and_log('logreg_C', logreg, X_train_without_unimportant, y_train, X_test_without_unimportant, y_test, experiments_dir, reports, roc_aucs)"
   ]
  },
  {
   "cell_type": "markdown",
   "metadata": {},
   "source": [
    "# Лучше не стало Оставим классическую логистическую регрессию без параметорв\n"
   ]
  },
  {
   "cell_type": "code",
   "execution_count": 26,
   "metadata": {},
   "outputs": [
    {
     "data": {
      "text/html": [],
      "text/plain": [
       "<IPython.core.display.HTML object>"
      ]
     },
     "metadata": {},
     "output_type": "display_data"
    },
    {
     "data": {
      "text/html": [
       " View run <strong style=\"color:#cdcd00\">LogisticRegression</strong> at: <a href='https://wandb.ai/sutormin/churn_predict/runs/oqeqebqc' target=\"_blank\">https://wandb.ai/sutormin/churn_predict/runs/oqeqebqc</a><br> View project at: <a href='https://wandb.ai/sutormin/churn_predict' target=\"_blank\">https://wandb.ai/sutormin/churn_predict</a><br>Synced 5 W&B file(s), 5 media file(s), 10 artifact file(s) and 0 other file(s)"
      ],
      "text/plain": [
       "<IPython.core.display.HTML object>"
      ]
     },
     "metadata": {},
     "output_type": "display_data"
    },
    {
     "data": {
      "text/html": [
       "Find logs at: <code>.\\wandb\\run-20250923_101228-oqeqebqc\\logs</code>"
      ],
      "text/plain": [
       "<IPython.core.display.HTML object>"
      ]
     },
     "metadata": {},
     "output_type": "display_data"
    }
   ],
   "source": [
    "wandb.finish()\n"
   ]
  },
  {
   "cell_type": "markdown",
   "metadata": {},
   "source": [
    "# Выводы. Были исследованы данные с дисбалансом классов, churn = 1 встречается реже. Были обучены 8 различных моделей. Лучше всех себя показала логистичекая регрессия без параметров. Вероятно улучшений можно достичь стакингом логистической регрессии и ещё каких то моделей."
   ]
  }
 ],
 "metadata": {
  "kernelspec": {
   "display_name": "churn_predict_venv",
   "language": "python",
   "name": "python3"
  },
  "language_info": {
   "codemirror_mode": {
    "name": "ipython",
    "version": 3
   },
   "file_extension": ".py",
   "mimetype": "text/x-python",
   "name": "python",
   "nbconvert_exporter": "python",
   "pygments_lexer": "ipython3",
   "version": "3.13.5"
  }
 },
 "nbformat": 4,
 "nbformat_minor": 2
}
