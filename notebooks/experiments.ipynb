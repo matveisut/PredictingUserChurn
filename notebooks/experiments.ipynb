{
 "cells": [
  {
   "cell_type": "code",
   "execution_count": 14,
   "metadata": {},
   "outputs": [],
   "source": [
    "import pandas as pd\n",
    "from pathlib import Path\n",
    "import sys\n",
    "import seaborn as sns\n",
    "import numpy as np\n",
    "import matplotlib.pyplot as plt\n",
    "\n",
    "# Получаем абсолютный путь к src\n",
    "parent_path = Path.cwd().parent\n",
    "sys.path.append(str(parent_path))"
   ]
  },
  {
   "cell_type": "code",
   "execution_count": 15,
   "metadata": {},
   "outputs": [],
   "source": [
    "\n",
    "from sklearn.linear_model import LogisticRegression\n",
    "\n",
    "\n",
    "# Метрики для оценки классификации\n",
    "from sklearn.metrics import accuracy_score, precision_score, recall_score, f1_score, roc_auc_score, confusion_matrix\n",
    "from sklearn.metrics import classification_report\n",
    "\n",
    "# Утилиты для подготовки данных\n",
    "from sklearn.model_selection import train_test_split, cross_val_score, GridSearchCV\n",
    "from sklearn.preprocessing import StandardScaler"
   ]
  },
  {
   "cell_type": "code",
   "execution_count": 16,
   "metadata": {},
   "outputs": [],
   "source": [
    "from scripts.config import get_processed_data_path\n",
    "from scripts.config import get_seed\n",
    "\n",
    "\n",
    "SEED = int(get_seed('../configs/data_config.yaml'))"
   ]
  },
  {
   "cell_type": "code",
   "execution_count": 17,
   "metadata": {},
   "outputs": [],
   "source": [
    "df = pd.read_csv(get_processed_data_path(version= 0, path = '../configs/data_config.yaml'))\n",
    "df.drop(['Unnamed: 0'], axis = 1, inplace= True)"
   ]
  },
  {
   "cell_type": "code",
   "execution_count": 18,
   "metadata": {},
   "outputs": [
    {
     "data": {
      "text/plain": [
       "42"
      ]
     },
     "execution_count": 18,
     "metadata": {},
     "output_type": "execute_result"
    }
   ],
   "source": [
    "SEED"
   ]
  },
  {
   "cell_type": "code",
   "execution_count": 19,
   "metadata": {},
   "outputs": [],
   "source": [
    "\n",
    "\n",
    "X = df.drop(['Churn'], axis = 1)\n",
    "y = df.Churn\n",
    "\n",
    "\n",
    "test_size = 0.2\n",
    "\n",
    "\n",
    "X_train, X_test, y_train, y_test = train_test_split(X, y, test_size= test_size, random_state=SEED)\n",
    "scaler = StandardScaler()\n",
    "scale_columns = ['ClientPeriod', 'MonthlySpending', 'TotalSpent', 'Spending_Change_Ratio']\n",
    "\n",
    "X_train[scale_columns] = scaler.fit_transform(X_train[scale_columns])\n",
    "X_test[scale_columns] = scaler.transform(X_test[scale_columns])"
   ]
  },
  {
   "cell_type": "code",
   "execution_count": 20,
   "metadata": {},
   "outputs": [
    {
     "data": {
      "text/plain": [
       "((4214, 33), (1054, 33))"
      ]
     },
     "execution_count": 20,
     "metadata": {},
     "output_type": "execute_result"
    }
   ],
   "source": [
    "X_train.shape, X_test.shape"
   ]
  },
  {
   "cell_type": "markdown",
   "metadata": {},
   "source": [
    "# Бэйзлайн на логистической регрессии\n"
   ]
  },
  {
   "cell_type": "code",
   "execution_count": 21,
   "metadata": {},
   "outputs": [
    {
     "data": {
      "text/html": [
       "<div>\n",
       "<style scoped>\n",
       "    .dataframe tbody tr th:only-of-type {\n",
       "        vertical-align: middle;\n",
       "    }\n",
       "\n",
       "    .dataframe tbody tr th {\n",
       "        vertical-align: top;\n",
       "    }\n",
       "\n",
       "    .dataframe thead th {\n",
       "        text-align: right;\n",
       "    }\n",
       "</style>\n",
       "<table border=\"1\" class=\"dataframe\">\n",
       "  <thead>\n",
       "    <tr style=\"text-align: right;\">\n",
       "      <th></th>\n",
       "      <th>ClientPeriod</th>\n",
       "      <th>MonthlySpending</th>\n",
       "      <th>TotalSpent</th>\n",
       "      <th>IsSeniorCitizen</th>\n",
       "      <th>Spending_Change_Ratio</th>\n",
       "      <th>Sex_Male</th>\n",
       "      <th>HasPartner_Yes</th>\n",
       "      <th>HasChild_Yes</th>\n",
       "      <th>HasPhoneService_Yes</th>\n",
       "      <th>HasMultiplePhoneNumbers_No phone service</th>\n",
       "      <th>...</th>\n",
       "      <th>HasMovieSubscription_No internet service</th>\n",
       "      <th>HasMovieSubscription_Yes</th>\n",
       "      <th>HasContractPhone_One year</th>\n",
       "      <th>HasContractPhone_Two year</th>\n",
       "      <th>IsBillingPaperless_Yes</th>\n",
       "      <th>PaymentMethod_Credit card (automatic)</th>\n",
       "      <th>PaymentMethod_Electronic check</th>\n",
       "      <th>PaymentMethod_Mailed check</th>\n",
       "      <th>random_number</th>\n",
       "      <th>random_normal</th>\n",
       "    </tr>\n",
       "  </thead>\n",
       "  <tbody>\n",
       "    <tr>\n",
       "      <th>298</th>\n",
       "      <td>-1.123668</td>\n",
       "      <td>0.671828</td>\n",
       "      <td>-0.829853</td>\n",
       "      <td>0</td>\n",
       "      <td>0.165704</td>\n",
       "      <td>False</td>\n",
       "      <td>False</td>\n",
       "      <td>False</td>\n",
       "      <td>True</td>\n",
       "      <td>False</td>\n",
       "      <td>...</td>\n",
       "      <td>False</td>\n",
       "      <td>True</td>\n",
       "      <td>False</td>\n",
       "      <td>False</td>\n",
       "      <td>True</td>\n",
       "      <td>True</td>\n",
       "      <td>False</td>\n",
       "      <td>False</td>\n",
       "      <td>0.282700</td>\n",
       "      <td>-1.603129</td>\n",
       "    </tr>\n",
       "    <tr>\n",
       "      <th>68</th>\n",
       "      <td>1.163759</td>\n",
       "      <td>0.486222</td>\n",
       "      <td>1.158731</td>\n",
       "      <td>0</td>\n",
       "      <td>-0.496389</td>\n",
       "      <td>True</td>\n",
       "      <td>True</td>\n",
       "      <td>False</td>\n",
       "      <td>True</td>\n",
       "      <td>False</td>\n",
       "      <td>...</td>\n",
       "      <td>False</td>\n",
       "      <td>True</td>\n",
       "      <td>True</td>\n",
       "      <td>False</td>\n",
       "      <td>True</td>\n",
       "      <td>False</td>\n",
       "      <td>True</td>\n",
       "      <td>False</td>\n",
       "      <td>0.966673</td>\n",
       "      <td>1.213148</td>\n",
       "    </tr>\n",
       "    <tr>\n",
       "      <th>2372</th>\n",
       "      <td>1.000371</td>\n",
       "      <td>0.721544</td>\n",
       "      <td>1.169562</td>\n",
       "      <td>0</td>\n",
       "      <td>-0.491513</td>\n",
       "      <td>True</td>\n",
       "      <td>False</td>\n",
       "      <td>False</td>\n",
       "      <td>True</td>\n",
       "      <td>False</td>\n",
       "      <td>...</td>\n",
       "      <td>False</td>\n",
       "      <td>False</td>\n",
       "      <td>True</td>\n",
       "      <td>False</td>\n",
       "      <td>True</td>\n",
       "      <td>False</td>\n",
       "      <td>True</td>\n",
       "      <td>False</td>\n",
       "      <td>0.282253</td>\n",
       "      <td>1.635603</td>\n",
       "    </tr>\n",
       "    <tr>\n",
       "      <th>2856</th>\n",
       "      <td>-1.001127</td>\n",
       "      <td>-1.502416</td>\n",
       "      <td>-0.947625</td>\n",
       "      <td>0</td>\n",
       "      <td>-0.110247</td>\n",
       "      <td>False</td>\n",
       "      <td>True</td>\n",
       "      <td>True</td>\n",
       "      <td>True</td>\n",
       "      <td>False</td>\n",
       "      <td>...</td>\n",
       "      <td>True</td>\n",
       "      <td>False</td>\n",
       "      <td>True</td>\n",
       "      <td>False</td>\n",
       "      <td>False</td>\n",
       "      <td>False</td>\n",
       "      <td>True</td>\n",
       "      <td>False</td>\n",
       "      <td>0.590101</td>\n",
       "      <td>-0.838572</td>\n",
       "    </tr>\n",
       "    <tr>\n",
       "      <th>150</th>\n",
       "      <td>-0.674352</td>\n",
       "      <td>-1.475901</td>\n",
       "      <td>-0.872226</td>\n",
       "      <td>0</td>\n",
       "      <td>-0.330613</td>\n",
       "      <td>True</td>\n",
       "      <td>False</td>\n",
       "      <td>False</td>\n",
       "      <td>True</td>\n",
       "      <td>False</td>\n",
       "      <td>...</td>\n",
       "      <td>True</td>\n",
       "      <td>False</td>\n",
       "      <td>False</td>\n",
       "      <td>False</td>\n",
       "      <td>True</td>\n",
       "      <td>True</td>\n",
       "      <td>False</td>\n",
       "      <td>False</td>\n",
       "      <td>0.328831</td>\n",
       "      <td>0.650161</td>\n",
       "    </tr>\n",
       "    <tr>\n",
       "      <th>...</th>\n",
       "      <td>...</td>\n",
       "      <td>...</td>\n",
       "      <td>...</td>\n",
       "      <td>...</td>\n",
       "      <td>...</td>\n",
       "      <td>...</td>\n",
       "      <td>...</td>\n",
       "      <td>...</td>\n",
       "      <td>...</td>\n",
       "      <td>...</td>\n",
       "      <td>...</td>\n",
       "      <td>...</td>\n",
       "      <td>...</td>\n",
       "      <td>...</td>\n",
       "      <td>...</td>\n",
       "      <td>...</td>\n",
       "      <td>...</td>\n",
       "      <td>...</td>\n",
       "      <td>...</td>\n",
       "      <td>...</td>\n",
       "      <td>...</td>\n",
       "    </tr>\n",
       "    <tr>\n",
       "      <th>3092</th>\n",
       "      <td>-0.470117</td>\n",
       "      <td>1.301563</td>\n",
       "      <td>-0.043815</td>\n",
       "      <td>0</td>\n",
       "      <td>-0.384247</td>\n",
       "      <td>False</td>\n",
       "      <td>True</td>\n",
       "      <td>False</td>\n",
       "      <td>True</td>\n",
       "      <td>False</td>\n",
       "      <td>...</td>\n",
       "      <td>False</td>\n",
       "      <td>True</td>\n",
       "      <td>False</td>\n",
       "      <td>False</td>\n",
       "      <td>True</td>\n",
       "      <td>False</td>\n",
       "      <td>False</td>\n",
       "      <td>False</td>\n",
       "      <td>0.748672</td>\n",
       "      <td>0.619844</td>\n",
       "    </tr>\n",
       "    <tr>\n",
       "      <th>3772</th>\n",
       "      <td>1.572228</td>\n",
       "      <td>-1.366526</td>\n",
       "      <td>-0.298031</td>\n",
       "      <td>0</td>\n",
       "      <td>-0.501928</td>\n",
       "      <td>True</td>\n",
       "      <td>True</td>\n",
       "      <td>True</td>\n",
       "      <td>True</td>\n",
       "      <td>False</td>\n",
       "      <td>...</td>\n",
       "      <td>True</td>\n",
       "      <td>False</td>\n",
       "      <td>False</td>\n",
       "      <td>True</td>\n",
       "      <td>False</td>\n",
       "      <td>True</td>\n",
       "      <td>False</td>\n",
       "      <td>False</td>\n",
       "      <td>0.561232</td>\n",
       "      <td>-0.451321</td>\n",
       "    </tr>\n",
       "    <tr>\n",
       "      <th>5191</th>\n",
       "      <td>1.082065</td>\n",
       "      <td>1.139158</td>\n",
       "      <td>1.590745</td>\n",
       "      <td>1</td>\n",
       "      <td>-0.494031</td>\n",
       "      <td>False</td>\n",
       "      <td>False</td>\n",
       "      <td>False</td>\n",
       "      <td>True</td>\n",
       "      <td>False</td>\n",
       "      <td>...</td>\n",
       "      <td>False</td>\n",
       "      <td>True</td>\n",
       "      <td>True</td>\n",
       "      <td>False</td>\n",
       "      <td>True</td>\n",
       "      <td>False</td>\n",
       "      <td>True</td>\n",
       "      <td>False</td>\n",
       "      <td>0.689110</td>\n",
       "      <td>-1.400315</td>\n",
       "    </tr>\n",
       "    <tr>\n",
       "      <th>5226</th>\n",
       "      <td>1.327147</td>\n",
       "      <td>1.004925</td>\n",
       "      <td>1.738397</td>\n",
       "      <td>1</td>\n",
       "      <td>-0.499620</td>\n",
       "      <td>False</td>\n",
       "      <td>False</td>\n",
       "      <td>False</td>\n",
       "      <td>True</td>\n",
       "      <td>False</td>\n",
       "      <td>...</td>\n",
       "      <td>False</td>\n",
       "      <td>False</td>\n",
       "      <td>False</td>\n",
       "      <td>False</td>\n",
       "      <td>True</td>\n",
       "      <td>False</td>\n",
       "      <td>False</td>\n",
       "      <td>False</td>\n",
       "      <td>0.216336</td>\n",
       "      <td>0.546769</td>\n",
       "    </tr>\n",
       "    <tr>\n",
       "      <th>860</th>\n",
       "      <td>1.449687</td>\n",
       "      <td>-0.353978</td>\n",
       "      <td>0.609477</td>\n",
       "      <td>0</td>\n",
       "      <td>-0.501491</td>\n",
       "      <td>False</td>\n",
       "      <td>False</td>\n",
       "      <td>False</td>\n",
       "      <td>True</td>\n",
       "      <td>False</td>\n",
       "      <td>...</td>\n",
       "      <td>False</td>\n",
       "      <td>False</td>\n",
       "      <td>True</td>\n",
       "      <td>False</td>\n",
       "      <td>True</td>\n",
       "      <td>True</td>\n",
       "      <td>False</td>\n",
       "      <td>False</td>\n",
       "      <td>0.633794</td>\n",
       "      <td>0.427310</td>\n",
       "    </tr>\n",
       "  </tbody>\n",
       "</table>\n",
       "<p>4214 rows × 33 columns</p>\n",
       "</div>"
      ],
      "text/plain": [
       "      ClientPeriod  MonthlySpending  TotalSpent  IsSeniorCitizen  \\\n",
       "298      -1.123668         0.671828   -0.829853                0   \n",
       "68        1.163759         0.486222    1.158731                0   \n",
       "2372      1.000371         0.721544    1.169562                0   \n",
       "2856     -1.001127        -1.502416   -0.947625                0   \n",
       "150      -0.674352        -1.475901   -0.872226                0   \n",
       "...            ...              ...         ...              ...   \n",
       "3092     -0.470117         1.301563   -0.043815                0   \n",
       "3772      1.572228        -1.366526   -0.298031                0   \n",
       "5191      1.082065         1.139158    1.590745                1   \n",
       "5226      1.327147         1.004925    1.738397                1   \n",
       "860       1.449687        -0.353978    0.609477                0   \n",
       "\n",
       "      Spending_Change_Ratio  Sex_Male  HasPartner_Yes  HasChild_Yes  \\\n",
       "298                0.165704     False           False         False   \n",
       "68                -0.496389      True            True         False   \n",
       "2372              -0.491513      True           False         False   \n",
       "2856              -0.110247     False            True          True   \n",
       "150               -0.330613      True           False         False   \n",
       "...                     ...       ...             ...           ...   \n",
       "3092              -0.384247     False            True         False   \n",
       "3772              -0.501928      True            True          True   \n",
       "5191              -0.494031     False           False         False   \n",
       "5226              -0.499620     False           False         False   \n",
       "860               -0.501491     False           False         False   \n",
       "\n",
       "      HasPhoneService_Yes  HasMultiplePhoneNumbers_No phone service  ...  \\\n",
       "298                  True                                     False  ...   \n",
       "68                   True                                     False  ...   \n",
       "2372                 True                                     False  ...   \n",
       "2856                 True                                     False  ...   \n",
       "150                  True                                     False  ...   \n",
       "...                   ...                                       ...  ...   \n",
       "3092                 True                                     False  ...   \n",
       "3772                 True                                     False  ...   \n",
       "5191                 True                                     False  ...   \n",
       "5226                 True                                     False  ...   \n",
       "860                  True                                     False  ...   \n",
       "\n",
       "      HasMovieSubscription_No internet service  HasMovieSubscription_Yes  \\\n",
       "298                                      False                      True   \n",
       "68                                       False                      True   \n",
       "2372                                     False                     False   \n",
       "2856                                      True                     False   \n",
       "150                                       True                     False   \n",
       "...                                        ...                       ...   \n",
       "3092                                     False                      True   \n",
       "3772                                      True                     False   \n",
       "5191                                     False                      True   \n",
       "5226                                     False                     False   \n",
       "860                                      False                     False   \n",
       "\n",
       "      HasContractPhone_One year  HasContractPhone_Two year  \\\n",
       "298                       False                      False   \n",
       "68                         True                      False   \n",
       "2372                       True                      False   \n",
       "2856                       True                      False   \n",
       "150                       False                      False   \n",
       "...                         ...                        ...   \n",
       "3092                      False                      False   \n",
       "3772                      False                       True   \n",
       "5191                       True                      False   \n",
       "5226                      False                      False   \n",
       "860                        True                      False   \n",
       "\n",
       "      IsBillingPaperless_Yes  PaymentMethod_Credit card (automatic)  \\\n",
       "298                     True                                   True   \n",
       "68                      True                                  False   \n",
       "2372                    True                                  False   \n",
       "2856                   False                                  False   \n",
       "150                     True                                   True   \n",
       "...                      ...                                    ...   \n",
       "3092                    True                                  False   \n",
       "3772                   False                                   True   \n",
       "5191                    True                                  False   \n",
       "5226                    True                                  False   \n",
       "860                     True                                   True   \n",
       "\n",
       "      PaymentMethod_Electronic check  PaymentMethod_Mailed check  \\\n",
       "298                            False                       False   \n",
       "68                              True                       False   \n",
       "2372                            True                       False   \n",
       "2856                            True                       False   \n",
       "150                            False                       False   \n",
       "...                              ...                         ...   \n",
       "3092                           False                       False   \n",
       "3772                           False                       False   \n",
       "5191                            True                       False   \n",
       "5226                           False                       False   \n",
       "860                            False                       False   \n",
       "\n",
       "      random_number  random_normal  \n",
       "298        0.282700      -1.603129  \n",
       "68         0.966673       1.213148  \n",
       "2372       0.282253       1.635603  \n",
       "2856       0.590101      -0.838572  \n",
       "150        0.328831       0.650161  \n",
       "...             ...            ...  \n",
       "3092       0.748672       0.619844  \n",
       "3772       0.561232      -0.451321  \n",
       "5191       0.689110      -1.400315  \n",
       "5226       0.216336       0.546769  \n",
       "860        0.633794       0.427310  \n",
       "\n",
       "[4214 rows x 33 columns]"
      ]
     },
     "execution_count": 21,
     "metadata": {},
     "output_type": "execute_result"
    }
   ],
   "source": [
    "X_train"
   ]
  },
  {
   "cell_type": "markdown",
   "metadata": {},
   "source": [
    "# Вход в wandb"
   ]
  },
  {
   "cell_type": "code",
   "execution_count": 22,
   "metadata": {},
   "outputs": [
    {
     "name": "stderr",
     "output_type": "stream",
     "text": [
      "\u001b[34m\u001b[1mwandb\u001b[0m: \u001b[33mWARNING\u001b[0m If you're specifying your api key in code, ensure this code is not shared publicly.\n",
      "\u001b[34m\u001b[1mwandb\u001b[0m: \u001b[33mWARNING\u001b[0m Consider setting the WANDB_API_KEY environment variable, or running `wandb login` from the command line.\n",
      "\u001b[34m\u001b[1mwandb\u001b[0m: Appending key for api.wandb.ai to your netrc file: C:\\Users\\user\\_netrc\n",
      "\u001b[34m\u001b[1mwandb\u001b[0m: Currently logged in as: \u001b[33msutormin-p\u001b[0m (\u001b[33msutormin\u001b[0m) to \u001b[32mhttps://api.wandb.ai\u001b[0m. Use \u001b[1m`wandb login --relogin`\u001b[0m to force relogin\n"
     ]
    },
    {
     "name": "stdout",
     "output_type": "stream",
     "text": [
      "Successfully logged in to W&B\n"
     ]
    }
   ],
   "source": [
    "import os\n",
    "from dotenv import load_dotenv\n",
    "import wandb\n",
    "\n",
    "load_dotenv()  \n",
    "\n",
    "api_key = os.getenv('WANDB_API_KEY')\n",
    "if api_key:\n",
    "    wandb.login(key=api_key)\n",
    "    print(\"Successfully logged in to W&B\")\n",
    "else:\n",
    "    print(\"Please set WANDB_API_KEY in .env file\")"
   ]
  },
  {
   "cell_type": "code",
   "execution_count": 23,
   "metadata": {},
   "outputs": [
    {
     "name": "stderr",
     "output_type": "stream",
     "text": [
      "c:\\Users\\user\\Desktop\\Projects\\Mentors\\PredictingUserChurn\\scripts\\train.py:83: SyntaxWarning: invalid escape sequence '\\c'\n",
      "  def quick_save_model(model, feature_names=None, metrics=None,  save_dir= '..\\configs\\experiments'):\n",
      "c:\\Users\\user\\Desktop\\Projects\\Mentors\\PredictingUserChurn\\scripts\\train.py:138: SyntaxWarning: invalid escape sequence '\\c'\n",
      "  def quick_load_model(exp_name,  save_dir= '..\\configs\\experiments'):\n"
     ]
    },
    {
     "name": "stdout",
     "output_type": "stream",
     "text": [
      "              precision    recall  f1-score   support\n",
      "\n",
      "           0       0.83      0.91      0.87       773\n",
      "           1       0.67      0.50      0.57       281\n",
      "\n",
      "    accuracy                           0.80      1054\n",
      "   macro avg       0.75      0.71      0.72      1054\n",
      "weighted avg       0.79      0.80      0.79      1054\n",
      "\n",
      "roc_auc =  0.8495854299696611\n"
     ]
    },
    {
     "data": {
      "text/html": [],
      "text/plain": [
       "<IPython.core.display.HTML object>"
      ]
     },
     "metadata": {},
     "output_type": "display_data"
    },
    {
     "data": {
      "text/html": [
       "Tracking run with wandb version 0.22.0"
      ],
      "text/plain": [
       "<IPython.core.display.HTML object>"
      ]
     },
     "metadata": {},
     "output_type": "display_data"
    },
    {
     "data": {
      "text/html": [
       "Run data is saved locally in <code>c:\\Users\\user\\Desktop\\Projects\\Mentors\\PredictingUserChurn\\notebooks\\wandb\\run-20250922_234225-ctd87cbi</code>"
      ],
      "text/plain": [
       "<IPython.core.display.HTML object>"
      ]
     },
     "metadata": {},
     "output_type": "display_data"
    },
    {
     "data": {
      "text/html": [
       "Syncing run <strong><a href='https://wandb.ai/sutormin/churn_predict/runs/ctd87cbi' target=\"_blank\">LogisticRegression</a></strong> to <a href='https://wandb.ai/sutormin/churn_predict' target=\"_blank\">Weights & Biases</a> (<a href='https://wandb.me/developer-guide' target=\"_blank\">docs</a>)<br>"
      ],
      "text/plain": [
       "<IPython.core.display.HTML object>"
      ]
     },
     "metadata": {},
     "output_type": "display_data"
    },
    {
     "data": {
      "text/html": [
       " View project at <a href='https://wandb.ai/sutormin/churn_predict' target=\"_blank\">https://wandb.ai/sutormin/churn_predict</a>"
      ],
      "text/plain": [
       "<IPython.core.display.HTML object>"
      ]
     },
     "metadata": {},
     "output_type": "display_data"
    },
    {
     "data": {
      "text/html": [
       " View run at <a href='https://wandb.ai/sutormin/churn_predict/runs/ctd87cbi' target=\"_blank\">https://wandb.ai/sutormin/churn_predict/runs/ctd87cbi</a>"
      ],
      "text/plain": [
       "<IPython.core.display.HTML object>"
      ]
     },
     "metadata": {},
     "output_type": "display_data"
    },
    {
     "name": "stderr",
     "output_type": "stream",
     "text": [
      "c:\\Users\\user\\Desktop\\Projects\\Mentors\\PredictingUserChurn\\churn_predict_venv\\Lib\\site-packages\\sklearn\\utils\\validation.py:2749: UserWarning: X does not have valid feature names, but LogisticRegression was fitted with feature names\n",
      "  warnings.warn(\n"
     ]
    }
   ],
   "source": [
    "logreg = LogisticRegression()\n",
    "logreg.fit(X_train, y_train)\n",
    "y_pred = logreg.predict(X_test)\n",
    " \n",
    "print(classification_report(y_pred = y_pred, y_true = y_test))\n",
    "print('roc_auc = ', roc_auc_score(y_test, logreg.predict_proba(X_test)[:,1]))\n",
    "\n",
    "\n",
    "from scripts.train import log_wandb_sklearn\n",
    "\n",
    "log_wandb_sklearn(logreg, X_train, y_train, X_test, y_test)"
   ]
  },
  {
   "cell_type": "markdown",
   "metadata": {},
   "source": [
    "# Были добавлены фичи со случайными числами и ещё одна фича комбинация двух других. Была обучена логистическая регрессия. Данные немного не сбалансированы и поэтому на разных классах разные метрики"
   ]
  },
  {
   "cell_type": "code",
   "execution_count": 24,
   "metadata": {},
   "outputs": [],
   "source": [
    "from sklearn.tree import DecisionTreeClassifier\n",
    "from sklearn.ensemble import RandomForestClassifier, GradientBoostingClassifier\n",
    "from sklearn.neighbors import KNeighborsClassifier\n",
    "\n",
    "from lightgbm import LGBMClassifier\n",
    "from xgboost import XGBClassifier\n",
    "from catboost import CatBoostClassifier"
   ]
  },
  {
   "cell_type": "code",
   "execution_count": 25,
   "metadata": {},
   "outputs": [
    {
     "data": {
      "text/html": [
       "<div>\n",
       "<style scoped>\n",
       "    .dataframe tbody tr th:only-of-type {\n",
       "        vertical-align: middle;\n",
       "    }\n",
       "\n",
       "    .dataframe tbody tr th {\n",
       "        vertical-align: top;\n",
       "    }\n",
       "\n",
       "    .dataframe thead th {\n",
       "        text-align: right;\n",
       "    }\n",
       "</style>\n",
       "<table border=\"1\" class=\"dataframe\">\n",
       "  <thead>\n",
       "    <tr style=\"text-align: right;\">\n",
       "      <th></th>\n",
       "      <th>ClientPeriod</th>\n",
       "      <th>MonthlySpending</th>\n",
       "      <th>TotalSpent</th>\n",
       "      <th>IsSeniorCitizen</th>\n",
       "      <th>Spending_Change_Ratio</th>\n",
       "      <th>Sex_Male</th>\n",
       "      <th>HasPartner_Yes</th>\n",
       "      <th>HasChild_Yes</th>\n",
       "      <th>HasPhoneService_Yes</th>\n",
       "      <th>HasMultiplePhoneNumbers_No phone service</th>\n",
       "      <th>...</th>\n",
       "      <th>HasMovieSubscription_No internet service</th>\n",
       "      <th>HasMovieSubscription_Yes</th>\n",
       "      <th>HasContractPhone_One year</th>\n",
       "      <th>HasContractPhone_Two year</th>\n",
       "      <th>IsBillingPaperless_Yes</th>\n",
       "      <th>PaymentMethod_Credit card (automatic)</th>\n",
       "      <th>PaymentMethod_Electronic check</th>\n",
       "      <th>PaymentMethod_Mailed check</th>\n",
       "      <th>random_number</th>\n",
       "      <th>random_normal</th>\n",
       "    </tr>\n",
       "  </thead>\n",
       "  <tbody>\n",
       "    <tr>\n",
       "      <th>298</th>\n",
       "      <td>-1.123668</td>\n",
       "      <td>0.671828</td>\n",
       "      <td>-0.829853</td>\n",
       "      <td>0</td>\n",
       "      <td>0.165704</td>\n",
       "      <td>False</td>\n",
       "      <td>False</td>\n",
       "      <td>False</td>\n",
       "      <td>True</td>\n",
       "      <td>False</td>\n",
       "      <td>...</td>\n",
       "      <td>False</td>\n",
       "      <td>True</td>\n",
       "      <td>False</td>\n",
       "      <td>False</td>\n",
       "      <td>True</td>\n",
       "      <td>True</td>\n",
       "      <td>False</td>\n",
       "      <td>False</td>\n",
       "      <td>0.282700</td>\n",
       "      <td>-1.603129</td>\n",
       "    </tr>\n",
       "    <tr>\n",
       "      <th>68</th>\n",
       "      <td>1.163759</td>\n",
       "      <td>0.486222</td>\n",
       "      <td>1.158731</td>\n",
       "      <td>0</td>\n",
       "      <td>-0.496389</td>\n",
       "      <td>True</td>\n",
       "      <td>True</td>\n",
       "      <td>False</td>\n",
       "      <td>True</td>\n",
       "      <td>False</td>\n",
       "      <td>...</td>\n",
       "      <td>False</td>\n",
       "      <td>True</td>\n",
       "      <td>True</td>\n",
       "      <td>False</td>\n",
       "      <td>True</td>\n",
       "      <td>False</td>\n",
       "      <td>True</td>\n",
       "      <td>False</td>\n",
       "      <td>0.966673</td>\n",
       "      <td>1.213148</td>\n",
       "    </tr>\n",
       "    <tr>\n",
       "      <th>2372</th>\n",
       "      <td>1.000371</td>\n",
       "      <td>0.721544</td>\n",
       "      <td>1.169562</td>\n",
       "      <td>0</td>\n",
       "      <td>-0.491513</td>\n",
       "      <td>True</td>\n",
       "      <td>False</td>\n",
       "      <td>False</td>\n",
       "      <td>True</td>\n",
       "      <td>False</td>\n",
       "      <td>...</td>\n",
       "      <td>False</td>\n",
       "      <td>False</td>\n",
       "      <td>True</td>\n",
       "      <td>False</td>\n",
       "      <td>True</td>\n",
       "      <td>False</td>\n",
       "      <td>True</td>\n",
       "      <td>False</td>\n",
       "      <td>0.282253</td>\n",
       "      <td>1.635603</td>\n",
       "    </tr>\n",
       "    <tr>\n",
       "      <th>2856</th>\n",
       "      <td>-1.001127</td>\n",
       "      <td>-1.502416</td>\n",
       "      <td>-0.947625</td>\n",
       "      <td>0</td>\n",
       "      <td>-0.110247</td>\n",
       "      <td>False</td>\n",
       "      <td>True</td>\n",
       "      <td>True</td>\n",
       "      <td>True</td>\n",
       "      <td>False</td>\n",
       "      <td>...</td>\n",
       "      <td>True</td>\n",
       "      <td>False</td>\n",
       "      <td>True</td>\n",
       "      <td>False</td>\n",
       "      <td>False</td>\n",
       "      <td>False</td>\n",
       "      <td>True</td>\n",
       "      <td>False</td>\n",
       "      <td>0.590101</td>\n",
       "      <td>-0.838572</td>\n",
       "    </tr>\n",
       "    <tr>\n",
       "      <th>150</th>\n",
       "      <td>-0.674352</td>\n",
       "      <td>-1.475901</td>\n",
       "      <td>-0.872226</td>\n",
       "      <td>0</td>\n",
       "      <td>-0.330613</td>\n",
       "      <td>True</td>\n",
       "      <td>False</td>\n",
       "      <td>False</td>\n",
       "      <td>True</td>\n",
       "      <td>False</td>\n",
       "      <td>...</td>\n",
       "      <td>True</td>\n",
       "      <td>False</td>\n",
       "      <td>False</td>\n",
       "      <td>False</td>\n",
       "      <td>True</td>\n",
       "      <td>True</td>\n",
       "      <td>False</td>\n",
       "      <td>False</td>\n",
       "      <td>0.328831</td>\n",
       "      <td>0.650161</td>\n",
       "    </tr>\n",
       "    <tr>\n",
       "      <th>...</th>\n",
       "      <td>...</td>\n",
       "      <td>...</td>\n",
       "      <td>...</td>\n",
       "      <td>...</td>\n",
       "      <td>...</td>\n",
       "      <td>...</td>\n",
       "      <td>...</td>\n",
       "      <td>...</td>\n",
       "      <td>...</td>\n",
       "      <td>...</td>\n",
       "      <td>...</td>\n",
       "      <td>...</td>\n",
       "      <td>...</td>\n",
       "      <td>...</td>\n",
       "      <td>...</td>\n",
       "      <td>...</td>\n",
       "      <td>...</td>\n",
       "      <td>...</td>\n",
       "      <td>...</td>\n",
       "      <td>...</td>\n",
       "      <td>...</td>\n",
       "    </tr>\n",
       "    <tr>\n",
       "      <th>3092</th>\n",
       "      <td>-0.470117</td>\n",
       "      <td>1.301563</td>\n",
       "      <td>-0.043815</td>\n",
       "      <td>0</td>\n",
       "      <td>-0.384247</td>\n",
       "      <td>False</td>\n",
       "      <td>True</td>\n",
       "      <td>False</td>\n",
       "      <td>True</td>\n",
       "      <td>False</td>\n",
       "      <td>...</td>\n",
       "      <td>False</td>\n",
       "      <td>True</td>\n",
       "      <td>False</td>\n",
       "      <td>False</td>\n",
       "      <td>True</td>\n",
       "      <td>False</td>\n",
       "      <td>False</td>\n",
       "      <td>False</td>\n",
       "      <td>0.748672</td>\n",
       "      <td>0.619844</td>\n",
       "    </tr>\n",
       "    <tr>\n",
       "      <th>3772</th>\n",
       "      <td>1.572228</td>\n",
       "      <td>-1.366526</td>\n",
       "      <td>-0.298031</td>\n",
       "      <td>0</td>\n",
       "      <td>-0.501928</td>\n",
       "      <td>True</td>\n",
       "      <td>True</td>\n",
       "      <td>True</td>\n",
       "      <td>True</td>\n",
       "      <td>False</td>\n",
       "      <td>...</td>\n",
       "      <td>True</td>\n",
       "      <td>False</td>\n",
       "      <td>False</td>\n",
       "      <td>True</td>\n",
       "      <td>False</td>\n",
       "      <td>True</td>\n",
       "      <td>False</td>\n",
       "      <td>False</td>\n",
       "      <td>0.561232</td>\n",
       "      <td>-0.451321</td>\n",
       "    </tr>\n",
       "    <tr>\n",
       "      <th>5191</th>\n",
       "      <td>1.082065</td>\n",
       "      <td>1.139158</td>\n",
       "      <td>1.590745</td>\n",
       "      <td>1</td>\n",
       "      <td>-0.494031</td>\n",
       "      <td>False</td>\n",
       "      <td>False</td>\n",
       "      <td>False</td>\n",
       "      <td>True</td>\n",
       "      <td>False</td>\n",
       "      <td>...</td>\n",
       "      <td>False</td>\n",
       "      <td>True</td>\n",
       "      <td>True</td>\n",
       "      <td>False</td>\n",
       "      <td>True</td>\n",
       "      <td>False</td>\n",
       "      <td>True</td>\n",
       "      <td>False</td>\n",
       "      <td>0.689110</td>\n",
       "      <td>-1.400315</td>\n",
       "    </tr>\n",
       "    <tr>\n",
       "      <th>5226</th>\n",
       "      <td>1.327147</td>\n",
       "      <td>1.004925</td>\n",
       "      <td>1.738397</td>\n",
       "      <td>1</td>\n",
       "      <td>-0.499620</td>\n",
       "      <td>False</td>\n",
       "      <td>False</td>\n",
       "      <td>False</td>\n",
       "      <td>True</td>\n",
       "      <td>False</td>\n",
       "      <td>...</td>\n",
       "      <td>False</td>\n",
       "      <td>False</td>\n",
       "      <td>False</td>\n",
       "      <td>False</td>\n",
       "      <td>True</td>\n",
       "      <td>False</td>\n",
       "      <td>False</td>\n",
       "      <td>False</td>\n",
       "      <td>0.216336</td>\n",
       "      <td>0.546769</td>\n",
       "    </tr>\n",
       "    <tr>\n",
       "      <th>860</th>\n",
       "      <td>1.449687</td>\n",
       "      <td>-0.353978</td>\n",
       "      <td>0.609477</td>\n",
       "      <td>0</td>\n",
       "      <td>-0.501491</td>\n",
       "      <td>False</td>\n",
       "      <td>False</td>\n",
       "      <td>False</td>\n",
       "      <td>True</td>\n",
       "      <td>False</td>\n",
       "      <td>...</td>\n",
       "      <td>False</td>\n",
       "      <td>False</td>\n",
       "      <td>True</td>\n",
       "      <td>False</td>\n",
       "      <td>True</td>\n",
       "      <td>True</td>\n",
       "      <td>False</td>\n",
       "      <td>False</td>\n",
       "      <td>0.633794</td>\n",
       "      <td>0.427310</td>\n",
       "    </tr>\n",
       "  </tbody>\n",
       "</table>\n",
       "<p>4214 rows × 33 columns</p>\n",
       "</div>"
      ],
      "text/plain": [
       "      ClientPeriod  MonthlySpending  TotalSpent  IsSeniorCitizen  \\\n",
       "298      -1.123668         0.671828   -0.829853                0   \n",
       "68        1.163759         0.486222    1.158731                0   \n",
       "2372      1.000371         0.721544    1.169562                0   \n",
       "2856     -1.001127        -1.502416   -0.947625                0   \n",
       "150      -0.674352        -1.475901   -0.872226                0   \n",
       "...            ...              ...         ...              ...   \n",
       "3092     -0.470117         1.301563   -0.043815                0   \n",
       "3772      1.572228        -1.366526   -0.298031                0   \n",
       "5191      1.082065         1.139158    1.590745                1   \n",
       "5226      1.327147         1.004925    1.738397                1   \n",
       "860       1.449687        -0.353978    0.609477                0   \n",
       "\n",
       "      Spending_Change_Ratio  Sex_Male  HasPartner_Yes  HasChild_Yes  \\\n",
       "298                0.165704     False           False         False   \n",
       "68                -0.496389      True            True         False   \n",
       "2372              -0.491513      True           False         False   \n",
       "2856              -0.110247     False            True          True   \n",
       "150               -0.330613      True           False         False   \n",
       "...                     ...       ...             ...           ...   \n",
       "3092              -0.384247     False            True         False   \n",
       "3772              -0.501928      True            True          True   \n",
       "5191              -0.494031     False           False         False   \n",
       "5226              -0.499620     False           False         False   \n",
       "860               -0.501491     False           False         False   \n",
       "\n",
       "      HasPhoneService_Yes  HasMultiplePhoneNumbers_No phone service  ...  \\\n",
       "298                  True                                     False  ...   \n",
       "68                   True                                     False  ...   \n",
       "2372                 True                                     False  ...   \n",
       "2856                 True                                     False  ...   \n",
       "150                  True                                     False  ...   \n",
       "...                   ...                                       ...  ...   \n",
       "3092                 True                                     False  ...   \n",
       "3772                 True                                     False  ...   \n",
       "5191                 True                                     False  ...   \n",
       "5226                 True                                     False  ...   \n",
       "860                  True                                     False  ...   \n",
       "\n",
       "      HasMovieSubscription_No internet service  HasMovieSubscription_Yes  \\\n",
       "298                                      False                      True   \n",
       "68                                       False                      True   \n",
       "2372                                     False                     False   \n",
       "2856                                      True                     False   \n",
       "150                                       True                     False   \n",
       "...                                        ...                       ...   \n",
       "3092                                     False                      True   \n",
       "3772                                      True                     False   \n",
       "5191                                     False                      True   \n",
       "5226                                     False                     False   \n",
       "860                                      False                     False   \n",
       "\n",
       "      HasContractPhone_One year  HasContractPhone_Two year  \\\n",
       "298                       False                      False   \n",
       "68                         True                      False   \n",
       "2372                       True                      False   \n",
       "2856                       True                      False   \n",
       "150                       False                      False   \n",
       "...                         ...                        ...   \n",
       "3092                      False                      False   \n",
       "3772                      False                       True   \n",
       "5191                       True                      False   \n",
       "5226                      False                      False   \n",
       "860                        True                      False   \n",
       "\n",
       "      IsBillingPaperless_Yes  PaymentMethod_Credit card (automatic)  \\\n",
       "298                     True                                   True   \n",
       "68                      True                                  False   \n",
       "2372                    True                                  False   \n",
       "2856                   False                                  False   \n",
       "150                     True                                   True   \n",
       "...                      ...                                    ...   \n",
       "3092                    True                                  False   \n",
       "3772                   False                                   True   \n",
       "5191                    True                                  False   \n",
       "5226                    True                                  False   \n",
       "860                     True                                   True   \n",
       "\n",
       "      PaymentMethod_Electronic check  PaymentMethod_Mailed check  \\\n",
       "298                            False                       False   \n",
       "68                              True                       False   \n",
       "2372                            True                       False   \n",
       "2856                            True                       False   \n",
       "150                            False                       False   \n",
       "...                              ...                         ...   \n",
       "3092                           False                       False   \n",
       "3772                           False                       False   \n",
       "5191                            True                       False   \n",
       "5226                           False                       False   \n",
       "860                            False                       False   \n",
       "\n",
       "      random_number  random_normal  \n",
       "298        0.282700      -1.603129  \n",
       "68         0.966673       1.213148  \n",
       "2372       0.282253       1.635603  \n",
       "2856       0.590101      -0.838572  \n",
       "150        0.328831       0.650161  \n",
       "...             ...            ...  \n",
       "3092       0.748672       0.619844  \n",
       "3772       0.561232      -0.451321  \n",
       "5191       0.689110      -1.400315  \n",
       "5226       0.216336       0.546769  \n",
       "860        0.633794       0.427310  \n",
       "\n",
       "[4214 rows x 33 columns]"
      ]
     },
     "execution_count": 25,
     "metadata": {},
     "output_type": "execute_result"
    }
   ],
   "source": [
    "X_train"
   ]
  },
  {
   "cell_type": "code",
   "execution_count": 26,
   "metadata": {},
   "outputs": [],
   "source": [
    "from scripts.train import train_and_log"
   ]
  },
  {
   "cell_type": "code",
   "execution_count": 27,
   "metadata": {},
   "outputs": [
    {
     "name": "stdout",
     "output_type": "stream",
     "text": [
      "================================================== model:  logreg ==================================================\n",
      "              precision    recall  f1-score   support\n",
      "\n",
      "           0       0.83      0.91      0.87       773\n",
      "           1       0.67      0.50      0.57       281\n",
      "\n",
      "    accuracy                           0.80      1054\n",
      "   macro avg       0.75      0.71      0.72      1054\n",
      "weighted avg       0.79      0.80      0.79      1054\n",
      "\n",
      "roc_auc = 0.8495854299696611\n"
     ]
    },
    {
     "data": {
      "text/html": [
       "Finishing previous runs because reinit is set to 'default'."
      ],
      "text/plain": [
       "<IPython.core.display.HTML object>"
      ]
     },
     "metadata": {},
     "output_type": "display_data"
    },
    {
     "name": "stderr",
     "output_type": "stream",
     "text": [
      "\u001b[34m\u001b[1mwandb\u001b[0m: \u001b[32m\u001b[41mERROR\u001b[0m The nbformat package was not found. It is required to save notebook history.\n"
     ]
    },
    {
     "data": {
      "text/html": [],
      "text/plain": [
       "<IPython.core.display.HTML object>"
      ]
     },
     "metadata": {},
     "output_type": "display_data"
    },
    {
     "data": {
      "text/html": [
       " View run <strong style=\"color:#cdcd00\">LogisticRegression</strong> at: <a href='https://wandb.ai/sutormin/churn_predict/runs/ctd87cbi' target=\"_blank\">https://wandb.ai/sutormin/churn_predict/runs/ctd87cbi</a><br> View project at: <a href='https://wandb.ai/sutormin/churn_predict' target=\"_blank\">https://wandb.ai/sutormin/churn_predict</a><br>Synced 5 W&B file(s), 5 media file(s), 10 artifact file(s) and 0 other file(s)"
      ],
      "text/plain": [
       "<IPython.core.display.HTML object>"
      ]
     },
     "metadata": {},
     "output_type": "display_data"
    },
    {
     "data": {
      "text/html": [
       "Find logs at: <code>.\\wandb\\run-20250922_234225-ctd87cbi\\logs</code>"
      ],
      "text/plain": [
       "<IPython.core.display.HTML object>"
      ]
     },
     "metadata": {},
     "output_type": "display_data"
    },
    {
     "data": {
      "text/html": [],
      "text/plain": [
       "<IPython.core.display.HTML object>"
      ]
     },
     "metadata": {},
     "output_type": "display_data"
    },
    {
     "data": {
      "text/html": [
       "Tracking run with wandb version 0.22.0"
      ],
      "text/plain": [
       "<IPython.core.display.HTML object>"
      ]
     },
     "metadata": {},
     "output_type": "display_data"
    },
    {
     "data": {
      "text/html": [
       "Run data is saved locally in <code>c:\\Users\\user\\Desktop\\Projects\\Mentors\\PredictingUserChurn\\notebooks\\wandb\\run-20250922_234239-vnn8f50z</code>"
      ],
      "text/plain": [
       "<IPython.core.display.HTML object>"
      ]
     },
     "metadata": {},
     "output_type": "display_data"
    },
    {
     "data": {
      "text/html": [
       "Syncing run <strong><a href='https://wandb.ai/sutormin/churn_predict/runs/vnn8f50z' target=\"_blank\">LogisticRegression</a></strong> to <a href='https://wandb.ai/sutormin/churn_predict' target=\"_blank\">Weights & Biases</a> (<a href='https://wandb.me/developer-guide' target=\"_blank\">docs</a>)<br>"
      ],
      "text/plain": [
       "<IPython.core.display.HTML object>"
      ]
     },
     "metadata": {},
     "output_type": "display_data"
    },
    {
     "data": {
      "text/html": [
       " View project at <a href='https://wandb.ai/sutormin/churn_predict' target=\"_blank\">https://wandb.ai/sutormin/churn_predict</a>"
      ],
      "text/plain": [
       "<IPython.core.display.HTML object>"
      ]
     },
     "metadata": {},
     "output_type": "display_data"
    },
    {
     "data": {
      "text/html": [
       " View run at <a href='https://wandb.ai/sutormin/churn_predict/runs/vnn8f50z' target=\"_blank\">https://wandb.ai/sutormin/churn_predict/runs/vnn8f50z</a>"
      ],
      "text/plain": [
       "<IPython.core.display.HTML object>"
      ]
     },
     "metadata": {},
     "output_type": "display_data"
    },
    {
     "name": "stderr",
     "output_type": "stream",
     "text": [
      "c:\\Users\\user\\Desktop\\Projects\\Mentors\\PredictingUserChurn\\churn_predict_venv\\Lib\\site-packages\\sklearn\\utils\\validation.py:2749: UserWarning: X does not have valid feature names, but LogisticRegression was fitted with feature names\n",
      "  warnings.warn(\n"
     ]
    }
   ],
   "source": [
    "logreg = LogisticRegression()\n",
    "tree = DecisionTreeClassifier(max_depth = 5)\n",
    "rf = RandomForestClassifier()\n",
    "grad_boosting = GradientBoostingClassifier()\n",
    "knn = KNeighborsClassifier()\n",
    "lgbm = LGBMClassifier()\n",
    "xgb = XGBClassifier()\n",
    "catboost = CatBoostClassifier()\n",
    "\n",
    "\n",
    "models = [logreg, tree, rf, grad_boosting, knn, lgbm, xgb, catboost ]\n",
    "names = ['logreg', 'tree', 'rf', 'grad_boosting', 'knn', 'lgbm', 'xgb', 'catboost']\n",
    "reports = {}\n",
    "roc_aucs = {}\n",
    "\n",
    "\n",
    "for idx,( name, model )in enumerate(zip(names, models)):\n",
    "    \n",
    "    train_and_log(name, model, X_train, y_train, X_test, y_test, reports, roc_aucs)\n",
    "    break\n"
   ]
  },
  {
   "cell_type": "code",
   "execution_count": 28,
   "metadata": {},
   "outputs": [
    {
     "name": "stdout",
     "output_type": "stream",
     "text": [
      "============================== model:  logreg ============================== \n",
      "\n",
      "              precision    recall  f1-score      support\n",
      "0              0.833926  0.909444  0.870050   773.000000\n",
      "1              0.668246  0.501779  0.573171   281.000000\n",
      "accuracy       0.800759  0.800759  0.800759     0.800759\n",
      "macro avg      0.751086  0.705612  0.721610  1054.000000\n",
      "weighted avg   0.789756  0.800759  0.790901  1054.000000\n",
      "roc auc score = 0.8495854299696611 \n",
      "\n"
     ]
    }
   ],
   "source": [
    "for name in reports:\n",
    "    print(\"=\" * 30, \"model: \", name ,\"=\" * 30, '\\n')\n",
    "    print(pd.DataFrame(reports[name]).T)\n",
    "    print('roc auc score =', roc_aucs[name], '\\n')"
   ]
  },
  {
   "cell_type": "markdown",
   "metadata": {},
   "source": [
    "# Судя по метрикам лучше всех себя показало, что удивительно самая наша первая итерация, а именно логистическая регрессия. Значит с ней и продолжим, но посмотрим на важность фичей у например кэтбуста"
   ]
  },
  {
   "cell_type": "code",
   "execution_count": 29,
   "metadata": {},
   "outputs": [
    {
     "name": "stdout",
     "output_type": "stream",
     "text": [
      "                                         feature  coefficient  abs_coefficient\n",
      "26                     HasContractPhone_Two year    -1.428417         1.428417\n",
      "11                HasInternetService_Fiber optic     1.138661         1.138661\n",
      "25                     HasContractPhone_One year    -0.692482         0.692482\n",
      "0                                   ClientPeriod    -0.602351         0.602351\n",
      "10                   HasMultiplePhoneNumbers_Yes     0.534925         0.534925\n",
      "8                            HasPhoneService_Yes    -0.461802         0.461802\n",
      "24                      HasMovieSubscription_Yes     0.395730         0.395730\n",
      "1                                MonthlySpending    -0.388966         0.388966\n",
      "4                          Spending_Change_Ratio     0.387696         0.387696\n",
      "22                               HasOnlineTV_Yes     0.381997         0.381997\n",
      "27                        IsBillingPaperless_Yes     0.371116         0.371116\n",
      "3                                IsSeniorCitizen     0.350267         0.350267\n",
      "14                  HasOnlineSecurityService_Yes    -0.330920         0.330920\n",
      "20                      HasTechSupportAccess_Yes    -0.322916         0.322916\n",
      "29                PaymentMethod_Electronic check     0.249890         0.249890\n",
      "9       HasMultiplePhoneNumbers_No phone service    -0.229297         0.229297\n",
      "31                                 random_number    -0.194592         0.194592\n",
      "17       HasDeviceProtection_No internet service    -0.179709         0.179709\n",
      "23      HasMovieSubscription_No internet service    -0.179709         0.179709\n",
      "19      HasTechSupportAccess_No internet service    -0.179709         0.179709\n",
      "21               HasOnlineTV_No internet service    -0.179709         0.179709\n",
      "13  HasOnlineSecurityService_No internet service    -0.179709         0.179709\n",
      "15           HasOnlineBackup_No internet service    -0.179709         0.179709\n",
      "12                         HasInternetService_No    -0.179709         0.179709\n",
      "7                                   HasChild_Yes    -0.153032         0.153032\n",
      "28         PaymentMethod_Credit card (automatic)    -0.152286         0.152286\n",
      "30                    PaymentMethod_Mailed check    -0.070833         0.070833\n",
      "2                                     TotalSpent     0.069011         0.069011\n",
      "16                           HasOnlineBackup_Yes    -0.049195         0.049195\n",
      "18                       HasDeviceProtection_Yes     0.032375         0.032375\n",
      "32                                 random_normal    -0.030759         0.030759\n",
      "5                                       Sex_Male    -0.024828         0.024828\n",
      "6                                 HasPartner_Yes    -0.015411         0.015411\n"
     ]
    }
   ],
   "source": [
    "# Получаем коэффициенты\n",
    "coefficients = logreg.coef_[0]\n",
    "feature_importance = pd.DataFrame({\n",
    "    'feature': X_train.columns,\n",
    "    'coefficient': coefficients,\n",
    "    'abs_coefficient': np.abs(coefficients)\n",
    "}).sort_values('abs_coefficient', ascending=False)\n",
    "\n",
    "print(feature_importance)\n"
   ]
  },
  {
   "cell_type": "markdown",
   "metadata": {},
   "source": [
    "# Сделаем отсечку фичей по порогу 0.2"
   ]
  },
  {
   "cell_type": "code",
   "execution_count": 21,
   "metadata": {},
   "outputs": [],
   "source": []
  },
  {
   "cell_type": "code",
   "execution_count": 30,
   "metadata": {},
   "outputs": [],
   "source": [
    "thresh = 0.2\n",
    "to_drop = list(feature_importance[feature_importance.abs_coefficient < thresh].feature)\n",
    "\n",
    "\n",
    "X_train_without_unimportant = X_train.drop(to_drop, axis = 1)\n",
    "X_test_without_unimportant = X_test.drop(to_drop, axis = 1)\n",
    "\n"
   ]
  },
  {
   "cell_type": "code",
   "execution_count": 31,
   "metadata": {},
   "outputs": [
    {
     "data": {
      "text/html": [
       "<div>\n",
       "<style scoped>\n",
       "    .dataframe tbody tr th:only-of-type {\n",
       "        vertical-align: middle;\n",
       "    }\n",
       "\n",
       "    .dataframe tbody tr th {\n",
       "        vertical-align: top;\n",
       "    }\n",
       "\n",
       "    .dataframe thead th {\n",
       "        text-align: right;\n",
       "    }\n",
       "</style>\n",
       "<table border=\"1\" class=\"dataframe\">\n",
       "  <thead>\n",
       "    <tr style=\"text-align: right;\">\n",
       "      <th></th>\n",
       "      <th>ClientPeriod</th>\n",
       "      <th>MonthlySpending</th>\n",
       "      <th>IsSeniorCitizen</th>\n",
       "      <th>Spending_Change_Ratio</th>\n",
       "      <th>HasPhoneService_Yes</th>\n",
       "      <th>HasMultiplePhoneNumbers_No phone service</th>\n",
       "      <th>HasMultiplePhoneNumbers_Yes</th>\n",
       "      <th>HasInternetService_Fiber optic</th>\n",
       "      <th>HasOnlineSecurityService_Yes</th>\n",
       "      <th>HasTechSupportAccess_Yes</th>\n",
       "      <th>HasOnlineTV_Yes</th>\n",
       "      <th>HasMovieSubscription_Yes</th>\n",
       "      <th>HasContractPhone_One year</th>\n",
       "      <th>HasContractPhone_Two year</th>\n",
       "      <th>IsBillingPaperless_Yes</th>\n",
       "      <th>PaymentMethod_Electronic check</th>\n",
       "    </tr>\n",
       "  </thead>\n",
       "  <tbody>\n",
       "    <tr>\n",
       "      <th>4793</th>\n",
       "      <td>0.060892</td>\n",
       "      <td>-0.128599</td>\n",
       "      <td>0</td>\n",
       "      <td>-0.444318</td>\n",
       "      <td>False</td>\n",
       "      <td>True</td>\n",
       "      <td>False</td>\n",
       "      <td>False</td>\n",
       "      <td>True</td>\n",
       "      <td>True</td>\n",
       "      <td>True</td>\n",
       "      <td>True</td>\n",
       "      <td>True</td>\n",
       "      <td>False</td>\n",
       "      <td>False</td>\n",
       "      <td>False</td>\n",
       "    </tr>\n",
       "    <tr>\n",
       "      <th>5020</th>\n",
       "      <td>-0.837740</td>\n",
       "      <td>0.295644</td>\n",
       "      <td>0</td>\n",
       "      <td>-0.249847</td>\n",
       "      <td>True</td>\n",
       "      <td>False</td>\n",
       "      <td>True</td>\n",
       "      <td>False</td>\n",
       "      <td>False</td>\n",
       "      <td>True</td>\n",
       "      <td>True</td>\n",
       "      <td>True</td>\n",
       "      <td>True</td>\n",
       "      <td>False</td>\n",
       "      <td>False</td>\n",
       "      <td>False</td>\n",
       "    </tr>\n",
       "    <tr>\n",
       "      <th>655</th>\n",
       "      <td>-0.551811</td>\n",
       "      <td>0.812690</td>\n",
       "      <td>0</td>\n",
       "      <td>-0.371823</td>\n",
       "      <td>True</td>\n",
       "      <td>False</td>\n",
       "      <td>True</td>\n",
       "      <td>True</td>\n",
       "      <td>False</td>\n",
       "      <td>False</td>\n",
       "      <td>False</td>\n",
       "      <td>True</td>\n",
       "      <td>False</td>\n",
       "      <td>False</td>\n",
       "      <td>False</td>\n",
       "      <td>False</td>\n",
       "    </tr>\n",
       "    <tr>\n",
       "      <th>1874</th>\n",
       "      <td>0.714443</td>\n",
       "      <td>1.475569</td>\n",
       "      <td>0</td>\n",
       "      <td>-0.483757</td>\n",
       "      <td>True</td>\n",
       "      <td>False</td>\n",
       "      <td>True</td>\n",
       "      <td>True</td>\n",
       "      <td>True</td>\n",
       "      <td>True</td>\n",
       "      <td>True</td>\n",
       "      <td>True</td>\n",
       "      <td>False</td>\n",
       "      <td>True</td>\n",
       "      <td>True</td>\n",
       "      <td>True</td>\n",
       "    </tr>\n",
       "    <tr>\n",
       "      <th>2318</th>\n",
       "      <td>-1.246209</td>\n",
       "      <td>0.186269</td>\n",
       "      <td>1</td>\n",
       "      <td>1.086832</td>\n",
       "      <td>True</td>\n",
       "      <td>False</td>\n",
       "      <td>False</td>\n",
       "      <td>True</td>\n",
       "      <td>False</td>\n",
       "      <td>False</td>\n",
       "      <td>False</td>\n",
       "      <td>False</td>\n",
       "      <td>False</td>\n",
       "      <td>False</td>\n",
       "      <td>False</td>\n",
       "      <td>True</td>\n",
       "    </tr>\n",
       "    <tr>\n",
       "      <th>...</th>\n",
       "      <td>...</td>\n",
       "      <td>...</td>\n",
       "      <td>...</td>\n",
       "      <td>...</td>\n",
       "      <td>...</td>\n",
       "      <td>...</td>\n",
       "      <td>...</td>\n",
       "      <td>...</td>\n",
       "      <td>...</td>\n",
       "      <td>...</td>\n",
       "      <td>...</td>\n",
       "      <td>...</td>\n",
       "      <td>...</td>\n",
       "      <td>...</td>\n",
       "      <td>...</td>\n",
       "      <td>...</td>\n",
       "    </tr>\n",
       "    <tr>\n",
       "      <th>4154</th>\n",
       "      <td>1.449687</td>\n",
       "      <td>0.658570</td>\n",
       "      <td>0</td>\n",
       "      <td>-0.500266</td>\n",
       "      <td>True</td>\n",
       "      <td>False</td>\n",
       "      <td>False</td>\n",
       "      <td>False</td>\n",
       "      <td>True</td>\n",
       "      <td>True</td>\n",
       "      <td>True</td>\n",
       "      <td>True</td>\n",
       "      <td>False</td>\n",
       "      <td>True</td>\n",
       "      <td>True</td>\n",
       "      <td>False</td>\n",
       "    </tr>\n",
       "    <tr>\n",
       "      <th>5085</th>\n",
       "      <td>0.510208</td>\n",
       "      <td>-0.347349</td>\n",
       "      <td>0</td>\n",
       "      <td>-0.477837</td>\n",
       "      <td>True</td>\n",
       "      <td>False</td>\n",
       "      <td>False</td>\n",
       "      <td>False</td>\n",
       "      <td>True</td>\n",
       "      <td>True</td>\n",
       "      <td>False</td>\n",
       "      <td>False</td>\n",
       "      <td>False</td>\n",
       "      <td>True</td>\n",
       "      <td>False</td>\n",
       "      <td>False</td>\n",
       "    </tr>\n",
       "    <tr>\n",
       "      <th>295</th>\n",
       "      <td>-1.164515</td>\n",
       "      <td>0.191240</td>\n",
       "      <td>0</td>\n",
       "      <td>0.378367</td>\n",
       "      <td>True</td>\n",
       "      <td>False</td>\n",
       "      <td>False</td>\n",
       "      <td>True</td>\n",
       "      <td>False</td>\n",
       "      <td>False</td>\n",
       "      <td>False</td>\n",
       "      <td>False</td>\n",
       "      <td>False</td>\n",
       "      <td>False</td>\n",
       "      <td>True</td>\n",
       "      <td>False</td>\n",
       "    </tr>\n",
       "    <tr>\n",
       "      <th>1751</th>\n",
       "      <td>-0.470117</td>\n",
       "      <td>-0.965484</td>\n",
       "      <td>0</td>\n",
       "      <td>-0.388933</td>\n",
       "      <td>False</td>\n",
       "      <td>True</td>\n",
       "      <td>False</td>\n",
       "      <td>False</td>\n",
       "      <td>False</td>\n",
       "      <td>True</td>\n",
       "      <td>False</td>\n",
       "      <td>False</td>\n",
       "      <td>False</td>\n",
       "      <td>False</td>\n",
       "      <td>True</td>\n",
       "      <td>False</td>\n",
       "    </tr>\n",
       "    <tr>\n",
       "      <th>1756</th>\n",
       "      <td>-0.837740</td>\n",
       "      <td>-1.517331</td>\n",
       "      <td>0</td>\n",
       "      <td>-0.227255</td>\n",
       "      <td>True</td>\n",
       "      <td>False</td>\n",
       "      <td>False</td>\n",
       "      <td>False</td>\n",
       "      <td>False</td>\n",
       "      <td>False</td>\n",
       "      <td>False</td>\n",
       "      <td>False</td>\n",
       "      <td>False</td>\n",
       "      <td>True</td>\n",
       "      <td>False</td>\n",
       "      <td>False</td>\n",
       "    </tr>\n",
       "  </tbody>\n",
       "</table>\n",
       "<p>1054 rows × 16 columns</p>\n",
       "</div>"
      ],
      "text/plain": [
       "      ClientPeriod  MonthlySpending  IsSeniorCitizen  Spending_Change_Ratio  \\\n",
       "4793      0.060892        -0.128599                0              -0.444318   \n",
       "5020     -0.837740         0.295644                0              -0.249847   \n",
       "655      -0.551811         0.812690                0              -0.371823   \n",
       "1874      0.714443         1.475569                0              -0.483757   \n",
       "2318     -1.246209         0.186269                1               1.086832   \n",
       "...            ...              ...              ...                    ...   \n",
       "4154      1.449687         0.658570                0              -0.500266   \n",
       "5085      0.510208        -0.347349                0              -0.477837   \n",
       "295      -1.164515         0.191240                0               0.378367   \n",
       "1751     -0.470117        -0.965484                0              -0.388933   \n",
       "1756     -0.837740        -1.517331                0              -0.227255   \n",
       "\n",
       "      HasPhoneService_Yes  HasMultiplePhoneNumbers_No phone service  \\\n",
       "4793                False                                      True   \n",
       "5020                 True                                     False   \n",
       "655                  True                                     False   \n",
       "1874                 True                                     False   \n",
       "2318                 True                                     False   \n",
       "...                   ...                                       ...   \n",
       "4154                 True                                     False   \n",
       "5085                 True                                     False   \n",
       "295                  True                                     False   \n",
       "1751                False                                      True   \n",
       "1756                 True                                     False   \n",
       "\n",
       "      HasMultiplePhoneNumbers_Yes  HasInternetService_Fiber optic  \\\n",
       "4793                        False                           False   \n",
       "5020                         True                           False   \n",
       "655                          True                            True   \n",
       "1874                         True                            True   \n",
       "2318                        False                            True   \n",
       "...                           ...                             ...   \n",
       "4154                        False                           False   \n",
       "5085                        False                           False   \n",
       "295                         False                            True   \n",
       "1751                        False                           False   \n",
       "1756                        False                           False   \n",
       "\n",
       "      HasOnlineSecurityService_Yes  HasTechSupportAccess_Yes  HasOnlineTV_Yes  \\\n",
       "4793                          True                      True             True   \n",
       "5020                         False                      True             True   \n",
       "655                          False                     False            False   \n",
       "1874                          True                      True             True   \n",
       "2318                         False                     False            False   \n",
       "...                            ...                       ...              ...   \n",
       "4154                          True                      True             True   \n",
       "5085                          True                      True            False   \n",
       "295                          False                     False            False   \n",
       "1751                         False                      True            False   \n",
       "1756                         False                     False            False   \n",
       "\n",
       "      HasMovieSubscription_Yes  HasContractPhone_One year  \\\n",
       "4793                      True                       True   \n",
       "5020                      True                       True   \n",
       "655                       True                      False   \n",
       "1874                      True                      False   \n",
       "2318                     False                      False   \n",
       "...                        ...                        ...   \n",
       "4154                      True                      False   \n",
       "5085                     False                      False   \n",
       "295                      False                      False   \n",
       "1751                     False                      False   \n",
       "1756                     False                      False   \n",
       "\n",
       "      HasContractPhone_Two year  IsBillingPaperless_Yes  \\\n",
       "4793                      False                   False   \n",
       "5020                      False                   False   \n",
       "655                       False                   False   \n",
       "1874                       True                    True   \n",
       "2318                      False                   False   \n",
       "...                         ...                     ...   \n",
       "4154                       True                    True   \n",
       "5085                       True                   False   \n",
       "295                       False                    True   \n",
       "1751                      False                    True   \n",
       "1756                       True                   False   \n",
       "\n",
       "      PaymentMethod_Electronic check  \n",
       "4793                           False  \n",
       "5020                           False  \n",
       "655                            False  \n",
       "1874                            True  \n",
       "2318                            True  \n",
       "...                              ...  \n",
       "4154                           False  \n",
       "5085                           False  \n",
       "295                            False  \n",
       "1751                           False  \n",
       "1756                           False  \n",
       "\n",
       "[1054 rows x 16 columns]"
      ]
     },
     "execution_count": 31,
     "metadata": {},
     "output_type": "execute_result"
    }
   ],
   "source": [
    "X_test_without_unimportant"
   ]
  },
  {
   "cell_type": "code",
   "execution_count": null,
   "metadata": {},
   "outputs": [],
   "source": []
  },
  {
   "cell_type": "code",
   "execution_count": null,
   "metadata": {},
   "outputs": [],
   "source": []
  },
  {
   "cell_type": "code",
   "execution_count": 33,
   "metadata": {},
   "outputs": [],
   "source": [
    "from scripts import config\n",
    "processed_path = config.get_processed_data_path(version= 'processed_path_processed_path_without_unimportant', path = '../configs/data_config.yaml')\n",
    "\n",
    "cols = list(X_train_without_unimportant.columns)\n",
    "cols.append('Churn')\n",
    "df[cols].to_csv(processed_path)"
   ]
  },
  {
   "cell_type": "code",
   "execution_count": 34,
   "metadata": {},
   "outputs": [
    {
     "name": "stdout",
     "output_type": "stream",
     "text": [
      "================================================== model:  logreg_without_unimportant ==================================================\n",
      "              precision    recall  f1-score   support\n",
      "\n",
      "           0       0.83      0.91      0.87       773\n",
      "           1       0.67      0.50      0.57       281\n",
      "\n",
      "    accuracy                           0.80      1054\n",
      "   macro avg       0.75      0.71      0.72      1054\n",
      "weighted avg       0.79      0.80      0.79      1054\n",
      "\n",
      "roc_auc = 0.8497005243700884\n"
     ]
    },
    {
     "data": {
      "text/html": [
       "Finishing previous runs because reinit is set to 'default'."
      ],
      "text/plain": [
       "<IPython.core.display.HTML object>"
      ]
     },
     "metadata": {},
     "output_type": "display_data"
    },
    {
     "data": {
      "text/html": [],
      "text/plain": [
       "<IPython.core.display.HTML object>"
      ]
     },
     "metadata": {},
     "output_type": "display_data"
    },
    {
     "data": {
      "text/html": [
       " View run <strong style=\"color:#cdcd00\">LogisticRegression</strong> at: <a href='https://wandb.ai/sutormin/churn_predict/runs/vnn8f50z' target=\"_blank\">https://wandb.ai/sutormin/churn_predict/runs/vnn8f50z</a><br> View project at: <a href='https://wandb.ai/sutormin/churn_predict' target=\"_blank\">https://wandb.ai/sutormin/churn_predict</a><br>Synced 5 W&B file(s), 5 media file(s), 10 artifact file(s) and 0 other file(s)"
      ],
      "text/plain": [
       "<IPython.core.display.HTML object>"
      ]
     },
     "metadata": {},
     "output_type": "display_data"
    },
    {
     "data": {
      "text/html": [
       "Find logs at: <code>.\\wandb\\run-20250922_234239-vnn8f50z\\logs</code>"
      ],
      "text/plain": [
       "<IPython.core.display.HTML object>"
      ]
     },
     "metadata": {},
     "output_type": "display_data"
    },
    {
     "data": {
      "text/html": [],
      "text/plain": [
       "<IPython.core.display.HTML object>"
      ]
     },
     "metadata": {},
     "output_type": "display_data"
    },
    {
     "data": {
      "text/html": [
       "Tracking run with wandb version 0.22.0"
      ],
      "text/plain": [
       "<IPython.core.display.HTML object>"
      ]
     },
     "metadata": {},
     "output_type": "display_data"
    },
    {
     "data": {
      "text/html": [
       "Run data is saved locally in <code>c:\\Users\\user\\Desktop\\Projects\\Mentors\\PredictingUserChurn\\notebooks\\wandb\\run-20250922_234323-ljfaen31</code>"
      ],
      "text/plain": [
       "<IPython.core.display.HTML object>"
      ]
     },
     "metadata": {},
     "output_type": "display_data"
    },
    {
     "data": {
      "text/html": [
       "Syncing run <strong><a href='https://wandb.ai/sutormin/churn_predict/runs/ljfaen31' target=\"_blank\">LogisticRegression</a></strong> to <a href='https://wandb.ai/sutormin/churn_predict' target=\"_blank\">Weights & Biases</a> (<a href='https://wandb.me/developer-guide' target=\"_blank\">docs</a>)<br>"
      ],
      "text/plain": [
       "<IPython.core.display.HTML object>"
      ]
     },
     "metadata": {},
     "output_type": "display_data"
    },
    {
     "data": {
      "text/html": [
       " View project at <a href='https://wandb.ai/sutormin/churn_predict' target=\"_blank\">https://wandb.ai/sutormin/churn_predict</a>"
      ],
      "text/plain": [
       "<IPython.core.display.HTML object>"
      ]
     },
     "metadata": {},
     "output_type": "display_data"
    },
    {
     "data": {
      "text/html": [
       " View run at <a href='https://wandb.ai/sutormin/churn_predict/runs/ljfaen31' target=\"_blank\">https://wandb.ai/sutormin/churn_predict/runs/ljfaen31</a>"
      ],
      "text/plain": [
       "<IPython.core.display.HTML object>"
      ]
     },
     "metadata": {},
     "output_type": "display_data"
    },
    {
     "name": "stderr",
     "output_type": "stream",
     "text": [
      "c:\\Users\\user\\Desktop\\Projects\\Mentors\\PredictingUserChurn\\churn_predict_venv\\Lib\\site-packages\\sklearn\\utils\\validation.py:2749: UserWarning: X does not have valid feature names, but LogisticRegression was fitted with feature names\n",
      "  warnings.warn(\n"
     ]
    }
   ],
   "source": [
    "logreg = LogisticRegression()\n",
    "train_and_log('logreg_without_unimportant' , logreg, X_train_without_unimportant, y_train, X_test_without_unimportant, y_test, reports, roc_aucs)\n",
    "\n",
    "\n"
   ]
  },
  {
   "cell_type": "code",
   "execution_count": 35,
   "metadata": {},
   "outputs": [
    {
     "name": "stdout",
     "output_type": "stream",
     "text": [
      "              precision    recall  f1-score      support\n",
      "0              0.833926  0.909444  0.870050   773.000000\n",
      "1              0.668246  0.501779  0.573171   281.000000\n",
      "accuracy       0.800759  0.800759  0.800759     0.800759\n",
      "macro avg      0.751086  0.705612  0.721610  1054.000000\n",
      "weighted avg   0.789756  0.800759  0.790901  1054.000000\n",
      "0.8495854299696611\n"
     ]
    }
   ],
   "source": [
    "print(pd.DataFrame(reports['logreg']).T)\n",
    "print(roc_aucs['logreg'])"
   ]
  },
  {
   "cell_type": "code",
   "execution_count": 36,
   "metadata": {},
   "outputs": [
    {
     "name": "stdout",
     "output_type": "stream",
     "text": [
      "              precision    recall  f1-score      support\n",
      "0              0.833333  0.912031  0.870908   773.000000\n",
      "1              0.673077  0.498221  0.572597   281.000000\n",
      "accuracy       0.801708  0.801708  0.801708     0.801708\n",
      "macro avg      0.753205  0.705126  0.721753  1054.000000\n",
      "weighted avg   0.790608  0.801708  0.791377  1054.000000\n",
      "0.8497005243700884\n"
     ]
    }
   ],
   "source": [
    "print(pd.DataFrame(reports['logreg_without_unimportant']).T)\n",
    "print(roc_aucs['logreg_without_unimportant'])"
   ]
  },
  {
   "cell_type": "markdown",
   "metadata": {},
   "source": [
    "#"
   ]
  },
  {
   "cell_type": "markdown",
   "metadata": {},
   "source": [
    "# roc auc стал совсееееем чуть лучше"
   ]
  },
  {
   "cell_type": "code",
   "execution_count": 37,
   "metadata": {},
   "outputs": [
    {
     "data": {
      "text/plain": [
       "{'C': 1.0,\n",
       " 'class_weight': None,\n",
       " 'dual': False,\n",
       " 'fit_intercept': True,\n",
       " 'intercept_scaling': 1,\n",
       " 'l1_ratio': None,\n",
       " 'max_iter': 100,\n",
       " 'multi_class': 'deprecated',\n",
       " 'n_jobs': None,\n",
       " 'penalty': 'l2',\n",
       " 'random_state': None,\n",
       " 'solver': 'lbfgs',\n",
       " 'tol': 0.0001,\n",
       " 'verbose': 0,\n",
       " 'warm_start': False}"
      ]
     },
     "execution_count": 37,
     "metadata": {},
     "output_type": "execute_result"
    }
   ],
   "source": [
    "logreg.get_params()"
   ]
  },
  {
   "cell_type": "code",
   "execution_count": 38,
   "metadata": {},
   "outputs": [
    {
     "name": "stdout",
     "output_type": "stream",
     "text": [
      "================================================== model:  logreg_l1 ==================================================\n",
      "              precision    recall  f1-score   support\n",
      "\n",
      "           0       0.83      0.91      0.87       773\n",
      "           1       0.67      0.50      0.57       281\n",
      "\n",
      "    accuracy                           0.80      1054\n",
      "   macro avg       0.75      0.71      0.72      1054\n",
      "weighted avg       0.79      0.80      0.79      1054\n",
      "\n",
      "roc_auc = 0.8497005243700884\n"
     ]
    },
    {
     "data": {
      "text/html": [
       "Finishing previous runs because reinit is set to 'default'."
      ],
      "text/plain": [
       "<IPython.core.display.HTML object>"
      ]
     },
     "metadata": {},
     "output_type": "display_data"
    },
    {
     "name": "stderr",
     "output_type": "stream",
     "text": [
      "\u001b[34m\u001b[1mwandb\u001b[0m: \u001b[32m\u001b[41mERROR\u001b[0m The nbformat package was not found. It is required to save notebook history.\n"
     ]
    },
    {
     "data": {
      "text/html": [],
      "text/plain": [
       "<IPython.core.display.HTML object>"
      ]
     },
     "metadata": {},
     "output_type": "display_data"
    },
    {
     "data": {
      "text/html": [
       " View run <strong style=\"color:#cdcd00\">LogisticRegression</strong> at: <a href='https://wandb.ai/sutormin/churn_predict/runs/ljfaen31' target=\"_blank\">https://wandb.ai/sutormin/churn_predict/runs/ljfaen31</a><br> View project at: <a href='https://wandb.ai/sutormin/churn_predict' target=\"_blank\">https://wandb.ai/sutormin/churn_predict</a><br>Synced 5 W&B file(s), 5 media file(s), 10 artifact file(s) and 0 other file(s)"
      ],
      "text/plain": [
       "<IPython.core.display.HTML object>"
      ]
     },
     "metadata": {},
     "output_type": "display_data"
    },
    {
     "data": {
      "text/html": [
       "Find logs at: <code>.\\wandb\\run-20250922_234323-ljfaen31\\logs</code>"
      ],
      "text/plain": [
       "<IPython.core.display.HTML object>"
      ]
     },
     "metadata": {},
     "output_type": "display_data"
    },
    {
     "data": {
      "text/html": [],
      "text/plain": [
       "<IPython.core.display.HTML object>"
      ]
     },
     "metadata": {},
     "output_type": "display_data"
    },
    {
     "data": {
      "text/html": [
       "Tracking run with wandb version 0.22.0"
      ],
      "text/plain": [
       "<IPython.core.display.HTML object>"
      ]
     },
     "metadata": {},
     "output_type": "display_data"
    },
    {
     "data": {
      "text/html": [
       "Run data is saved locally in <code>c:\\Users\\user\\Desktop\\Projects\\Mentors\\PredictingUserChurn\\notebooks\\wandb\\run-20250922_234337-21gx0ufp</code>"
      ],
      "text/plain": [
       "<IPython.core.display.HTML object>"
      ]
     },
     "metadata": {},
     "output_type": "display_data"
    },
    {
     "data": {
      "text/html": [
       "Syncing run <strong><a href='https://wandb.ai/sutormin/churn_predict/runs/21gx0ufp' target=\"_blank\">LogisticRegression</a></strong> to <a href='https://wandb.ai/sutormin/churn_predict' target=\"_blank\">Weights & Biases</a> (<a href='https://wandb.me/developer-guide' target=\"_blank\">docs</a>)<br>"
      ],
      "text/plain": [
       "<IPython.core.display.HTML object>"
      ]
     },
     "metadata": {},
     "output_type": "display_data"
    },
    {
     "data": {
      "text/html": [
       " View project at <a href='https://wandb.ai/sutormin/churn_predict' target=\"_blank\">https://wandb.ai/sutormin/churn_predict</a>"
      ],
      "text/plain": [
       "<IPython.core.display.HTML object>"
      ]
     },
     "metadata": {},
     "output_type": "display_data"
    },
    {
     "data": {
      "text/html": [
       " View run at <a href='https://wandb.ai/sutormin/churn_predict/runs/21gx0ufp' target=\"_blank\">https://wandb.ai/sutormin/churn_predict/runs/21gx0ufp</a>"
      ],
      "text/plain": [
       "<IPython.core.display.HTML object>"
      ]
     },
     "metadata": {},
     "output_type": "display_data"
    },
    {
     "name": "stderr",
     "output_type": "stream",
     "text": [
      "c:\\Users\\user\\Desktop\\Projects\\Mentors\\PredictingUserChurn\\churn_predict_venv\\Lib\\site-packages\\sklearn\\utils\\validation.py:2749: UserWarning: X does not have valid feature names, but LogisticRegression was fitted with feature names\n",
      "  warnings.warn(\n"
     ]
    },
    {
     "name": "stdout",
     "output_type": "stream",
     "text": [
      "================================================== model:  logreg_elastic ==================================================\n",
      "              precision    recall  f1-score   support\n",
      "\n",
      "           0       0.83      0.91      0.87       773\n",
      "           1       0.67      0.50      0.57       281\n",
      "\n",
      "    accuracy                           0.80      1054\n",
      "   macro avg       0.75      0.71      0.72      1054\n",
      "weighted avg       0.79      0.80      0.79      1054\n",
      "\n",
      "roc_auc = 0.8497005243700884\n"
     ]
    },
    {
     "data": {
      "text/html": [
       "Finishing previous runs because reinit is set to 'default'."
      ],
      "text/plain": [
       "<IPython.core.display.HTML object>"
      ]
     },
     "metadata": {},
     "output_type": "display_data"
    },
    {
     "data": {
      "text/html": [],
      "text/plain": [
       "<IPython.core.display.HTML object>"
      ]
     },
     "metadata": {},
     "output_type": "display_data"
    },
    {
     "data": {
      "text/html": [
       " View run <strong style=\"color:#cdcd00\">LogisticRegression</strong> at: <a href='https://wandb.ai/sutormin/churn_predict/runs/21gx0ufp' target=\"_blank\">https://wandb.ai/sutormin/churn_predict/runs/21gx0ufp</a><br> View project at: <a href='https://wandb.ai/sutormin/churn_predict' target=\"_blank\">https://wandb.ai/sutormin/churn_predict</a><br>Synced 5 W&B file(s), 5 media file(s), 10 artifact file(s) and 0 other file(s)"
      ],
      "text/plain": [
       "<IPython.core.display.HTML object>"
      ]
     },
     "metadata": {},
     "output_type": "display_data"
    },
    {
     "data": {
      "text/html": [
       "Find logs at: <code>.\\wandb\\run-20250922_234337-21gx0ufp\\logs</code>"
      ],
      "text/plain": [
       "<IPython.core.display.HTML object>"
      ]
     },
     "metadata": {},
     "output_type": "display_data"
    },
    {
     "data": {
      "text/html": [],
      "text/plain": [
       "<IPython.core.display.HTML object>"
      ]
     },
     "metadata": {},
     "output_type": "display_data"
    },
    {
     "data": {
      "text/html": [
       "Tracking run with wandb version 0.22.0"
      ],
      "text/plain": [
       "<IPython.core.display.HTML object>"
      ]
     },
     "metadata": {},
     "output_type": "display_data"
    },
    {
     "data": {
      "text/html": [
       "Run data is saved locally in <code>c:\\Users\\user\\Desktop\\Projects\\Mentors\\PredictingUserChurn\\notebooks\\wandb\\run-20250922_234351-zil3osxp</code>"
      ],
      "text/plain": [
       "<IPython.core.display.HTML object>"
      ]
     },
     "metadata": {},
     "output_type": "display_data"
    },
    {
     "data": {
      "text/html": [
       "Syncing run <strong><a href='https://wandb.ai/sutormin/churn_predict/runs/zil3osxp' target=\"_blank\">LogisticRegression</a></strong> to <a href='https://wandb.ai/sutormin/churn_predict' target=\"_blank\">Weights & Biases</a> (<a href='https://wandb.me/developer-guide' target=\"_blank\">docs</a>)<br>"
      ],
      "text/plain": [
       "<IPython.core.display.HTML object>"
      ]
     },
     "metadata": {},
     "output_type": "display_data"
    },
    {
     "data": {
      "text/html": [
       " View project at <a href='https://wandb.ai/sutormin/churn_predict' target=\"_blank\">https://wandb.ai/sutormin/churn_predict</a>"
      ],
      "text/plain": [
       "<IPython.core.display.HTML object>"
      ]
     },
     "metadata": {},
     "output_type": "display_data"
    },
    {
     "data": {
      "text/html": [
       " View run at <a href='https://wandb.ai/sutormin/churn_predict/runs/zil3osxp' target=\"_blank\">https://wandb.ai/sutormin/churn_predict/runs/zil3osxp</a>"
      ],
      "text/plain": [
       "<IPython.core.display.HTML object>"
      ]
     },
     "metadata": {},
     "output_type": "display_data"
    },
    {
     "name": "stderr",
     "output_type": "stream",
     "text": [
      "c:\\Users\\user\\Desktop\\Projects\\Mentors\\PredictingUserChurn\\churn_predict_venv\\Lib\\site-packages\\sklearn\\utils\\validation.py:2749: UserWarning: X does not have valid feature names, but LogisticRegression was fitted with feature names\n",
      "  warnings.warn(\n"
     ]
    }
   ],
   "source": [
    "logregl1 = LogisticRegression(penalty='l1')\n",
    "\n",
    "logreg3 = LogisticRegression(penalty= 'elasticnet')\n",
    "\n",
    "train_and_log('logreg_l1', logreg, X_train_without_unimportant, y_train, X_test_without_unimportant, y_test, reports, roc_aucs)\n",
    "train_and_log('logreg_elastic', logreg, X_train_without_unimportant, y_train, X_test_without_unimportant, y_test, reports, roc_aucs)"
   ]
  },
  {
   "cell_type": "markdown",
   "metadata": {},
   "source": [
    "# От пенальти не зависит"
   ]
  },
  {
   "cell_type": "markdown",
   "metadata": {},
   "source": [
    "# class weight тоже не влияет\n"
   ]
  },
  {
   "cell_type": "code",
   "execution_count": 40,
   "metadata": {},
   "outputs": [
    {
     "name": "stdout",
     "output_type": "stream",
     "text": [
      "================================================== model:  logreg_l1 ==================================================\n",
      "              precision    recall  f1-score   support\n",
      "\n",
      "           0       0.83      0.91      0.87       773\n",
      "           1       0.67      0.50      0.57       281\n",
      "\n",
      "    accuracy                           0.80      1054\n",
      "   macro avg       0.75      0.71      0.72      1054\n",
      "weighted avg       0.79      0.80      0.79      1054\n",
      "\n",
      "roc_auc = 0.8497005243700884\n"
     ]
    },
    {
     "data": {
      "text/html": [
       "Finishing previous runs because reinit is set to 'default'."
      ],
      "text/plain": [
       "<IPython.core.display.HTML object>"
      ]
     },
     "metadata": {},
     "output_type": "display_data"
    },
    {
     "data": {
      "text/html": [],
      "text/plain": [
       "<IPython.core.display.HTML object>"
      ]
     },
     "metadata": {},
     "output_type": "display_data"
    },
    {
     "data": {
      "text/html": [
       " View run <strong style=\"color:#cdcd00\">LogisticRegression</strong> at: <a href='https://wandb.ai/sutormin/churn_predict/runs/5tadaime' target=\"_blank\">https://wandb.ai/sutormin/churn_predict/runs/5tadaime</a><br> View project at: <a href='https://wandb.ai/sutormin/churn_predict' target=\"_blank\">https://wandb.ai/sutormin/churn_predict</a><br>Synced 5 W&B file(s), 5 media file(s), 10 artifact file(s) and 0 other file(s)"
      ],
      "text/plain": [
       "<IPython.core.display.HTML object>"
      ]
     },
     "metadata": {},
     "output_type": "display_data"
    },
    {
     "data": {
      "text/html": [
       "Find logs at: <code>.\\wandb\\run-20250922_234406-5tadaime\\logs</code>"
      ],
      "text/plain": [
       "<IPython.core.display.HTML object>"
      ]
     },
     "metadata": {},
     "output_type": "display_data"
    },
    {
     "data": {
      "text/html": [],
      "text/plain": [
       "<IPython.core.display.HTML object>"
      ]
     },
     "metadata": {},
     "output_type": "display_data"
    },
    {
     "data": {
      "text/html": [
       "Tracking run with wandb version 0.22.0"
      ],
      "text/plain": [
       "<IPython.core.display.HTML object>"
      ]
     },
     "metadata": {},
     "output_type": "display_data"
    },
    {
     "data": {
      "text/html": [
       "Run data is saved locally in <code>c:\\Users\\user\\Desktop\\Projects\\Mentors\\PredictingUserChurn\\notebooks\\wandb\\run-20250922_234431-fszb99np</code>"
      ],
      "text/plain": [
       "<IPython.core.display.HTML object>"
      ]
     },
     "metadata": {},
     "output_type": "display_data"
    },
    {
     "data": {
      "text/html": [
       "Syncing run <strong><a href='https://wandb.ai/sutormin/churn_predict/runs/fszb99np' target=\"_blank\">LogisticRegression</a></strong> to <a href='https://wandb.ai/sutormin/churn_predict' target=\"_blank\">Weights & Biases</a> (<a href='https://wandb.me/developer-guide' target=\"_blank\">docs</a>)<br>"
      ],
      "text/plain": [
       "<IPython.core.display.HTML object>"
      ]
     },
     "metadata": {},
     "output_type": "display_data"
    },
    {
     "data": {
      "text/html": [
       " View project at <a href='https://wandb.ai/sutormin/churn_predict' target=\"_blank\">https://wandb.ai/sutormin/churn_predict</a>"
      ],
      "text/plain": [
       "<IPython.core.display.HTML object>"
      ]
     },
     "metadata": {},
     "output_type": "display_data"
    },
    {
     "data": {
      "text/html": [
       " View run at <a href='https://wandb.ai/sutormin/churn_predict/runs/fszb99np' target=\"_blank\">https://wandb.ai/sutormin/churn_predict/runs/fszb99np</a>"
      ],
      "text/plain": [
       "<IPython.core.display.HTML object>"
      ]
     },
     "metadata": {},
     "output_type": "display_data"
    },
    {
     "name": "stderr",
     "output_type": "stream",
     "text": [
      "c:\\Users\\user\\Desktop\\Projects\\Mentors\\PredictingUserChurn\\churn_predict_venv\\Lib\\site-packages\\sklearn\\utils\\validation.py:2749: UserWarning: X does not have valid feature names, but LogisticRegression was fitted with feature names\n",
      "  warnings.warn(\n"
     ]
    }
   ],
   "source": [
    "\n",
    "LogisticRegression(class_weight = {0: 1, 1: 10})\n",
    "\n",
    "train_and_log('logreg_l1', logreg, X_train_without_unimportant, y_train, X_test_without_unimportant, y_test, reports, roc_aucs)"
   ]
  },
  {
   "cell_type": "code",
   "execution_count": null,
   "metadata": {},
   "outputs": [],
   "source": []
  },
  {
   "cell_type": "code",
   "execution_count": null,
   "metadata": {},
   "outputs": [],
   "source": []
  },
  {
   "cell_type": "code",
   "execution_count": 41,
   "metadata": {},
   "outputs": [
    {
     "name": "stderr",
     "output_type": "stream",
     "text": [
      "\u001b[34m\u001b[1mwandb\u001b[0m: \u001b[32m\u001b[41mERROR\u001b[0m The nbformat package was not found. It is required to save notebook history.\n"
     ]
    },
    {
     "data": {
      "text/html": [],
      "text/plain": [
       "<IPython.core.display.HTML object>"
      ]
     },
     "metadata": {},
     "output_type": "display_data"
    },
    {
     "data": {
      "text/html": [
       " View run <strong style=\"color:#cdcd00\">LogisticRegression</strong> at: <a href='https://wandb.ai/sutormin/churn_predict/runs/fszb99np' target=\"_blank\">https://wandb.ai/sutormin/churn_predict/runs/fszb99np</a><br> View project at: <a href='https://wandb.ai/sutormin/churn_predict' target=\"_blank\">https://wandb.ai/sutormin/churn_predict</a><br>Synced 5 W&B file(s), 5 media file(s), 10 artifact file(s) and 0 other file(s)"
      ],
      "text/plain": [
       "<IPython.core.display.HTML object>"
      ]
     },
     "metadata": {},
     "output_type": "display_data"
    },
    {
     "data": {
      "text/html": [
       "Find logs at: <code>.\\wandb\\run-20250922_234431-fszb99np\\logs</code>"
      ],
      "text/plain": [
       "<IPython.core.display.HTML object>"
      ]
     },
     "metadata": {},
     "output_type": "display_data"
    }
   ],
   "source": [
    "wandb.finish()\n"
   ]
  }
 ],
 "metadata": {
  "kernelspec": {
   "display_name": "churn_predict_venv",
   "language": "python",
   "name": "python3"
  },
  "language_info": {
   "codemirror_mode": {
    "name": "ipython",
    "version": 3
   },
   "file_extension": ".py",
   "mimetype": "text/x-python",
   "name": "python",
   "nbconvert_exporter": "python",
   "pygments_lexer": "ipython3",
   "version": "3.13.5"
  }
 },
 "nbformat": 4,
 "nbformat_minor": 2
}
